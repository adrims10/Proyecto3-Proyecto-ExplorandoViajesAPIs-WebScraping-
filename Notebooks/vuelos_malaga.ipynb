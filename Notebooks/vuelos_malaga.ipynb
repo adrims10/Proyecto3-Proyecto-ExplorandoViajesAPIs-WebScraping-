{
 "cells": [
  {
   "cell_type": "code",
   "execution_count": 1,
   "metadata": {},
   "outputs": [],
   "source": [
    "from bs4 import BeautifulSoup\n",
    "import requests\n",
    "import pandas as pd\n",
    "import numpy as np\n",
    "from time import sleep\n",
    "from selenium import webdriver  \n",
    "from webdriver_manager.chrome import ChromeDriverManager \n",
    "from selenium.webdriver.common.keys import Keys  \n",
    "from selenium.webdriver.support.ui import Select  \n",
    "from selenium.webdriver.support.ui import WebDriverWait\n",
    "from selenium.webdriver.support import expected_conditions as EC\n",
    "from selenium.common.exceptions import NoSuchElementException \n",
    "import re\n",
    "import sys\n",
    "import os\n",
    "import dotenv \n",
    "dotenv.load_dotenv()\n",
    "from datetime import datetime\n",
    "\n",
    "key = os.getenv(\"token\")"
   ]
  },
  {
   "cell_type": "code",
   "execution_count": 13,
   "metadata": {},
   "outputs": [
    {
     "name": "stdout",
     "output_type": "stream",
     "text": [
      "{'status': True, 'timestamp': 1729412962988, 'data': [{'skyId': 'OVD', 'entityId': '95565102', 'presentation': {'title': 'Asturias', 'suggestionTitle': 'Asturias (OVD)', 'subtitle': 'Spain'}, 'navigation': {'entityId': '95565102', 'entityType': 'AIRPORT', 'localizedName': 'Asturias', 'relevantFlightParams': {'skyId': 'OVD', 'entityId': '95565102', 'flightPlaceType': 'AIRPORT', 'localizedName': 'Asturias'}, 'relevantHotelParams': {'entityId': '46362301', 'entityType': 'CITY', 'localizedName': 'Santiago del Monte'}}}]}\n"
     ]
    }
   ],
   "source": [
    "##sacar las skid\n",
    "parametro = 'ovd'\n",
    "url = \"https://sky-scrapper.p.rapidapi.com/api/v1/flights/searchAirport\"\n",
    "\n",
    "querystring = {\"query\":f\"{parametro}\"}\n",
    "\n",
    "headers = {\n",
    "\t\"x-rapidapi-key\": key,\n",
    "\t\"x-rapidapi-host\": \"sky-scrapper.p.rapidapi.com\"\n",
    "}\n",
    "\n",
    "response = requests.get(url, headers=headers, params=querystring)\n",
    "\n",
    "print(response.json())"
   ]
  },
  {
   "cell_type": "code",
   "execution_count": null,
   "metadata": {},
   "outputs": [],
   "source": [
    "#  skyId': 'MAD', 'entityId': '95565077'\n",
    "# 'skyId': 'AGP', 'entityId': '95565095'\n",
    "# 'skyId': 'OVD', 'entityId': '95565102'"
   ]
  },
  {
   "cell_type": "code",
   "execution_count": 2,
   "metadata": {},
   "outputs": [
    {
     "name": "stdout",
     "output_type": "stream",
     "text": [
      "{'status': False, 'timestamp': 1729420502913, 'message': 'Something went wrong. We have logged the error and will get the resolution.'}\n"
     ]
    }
   ],
   "source": [
    "\n",
    "\n",
    "url = \"https://sky-scrapper.p.rapidapi.com/api/v2/flights/searchFlightsComplete\"\n",
    "\n",
    "querystring = {\"originSkyId\":\"MAD\",\"destinationSkyId\":\"AGP\",\"originEntityId\":\"95565077\",\"destinationEntityId\":\"95565095\",\"date\":\"2024-11-01\",\"returnDate\":\"2024-11-03\",\"adults\":\"2\",\"currency\":\"EUR\"}\n",
    "\n",
    "headers = {\n",
    "\t\"x-rapidapi-key\": key,\n",
    "\t\"x-rapidapi-host\": \"sky-scrapper.p.rapidapi.com\"\n",
    "}\n",
    "\n",
    "response = requests.get(url, headers=headers, params=querystring)\n",
    "\n",
    "print(response.json())\n",
    "\n",
    "if response.status_code == 200:\n",
    "    data = response.json()"
   ]
  },
  {
   "cell_type": "code",
   "execution_count": null,
   "metadata": {},
   "outputs": [],
   "source": [
    "#corrigiendolo ha petado la api"
   ]
  },
  {
   "cell_type": "code",
   "execution_count": null,
   "metadata": {},
   "outputs": [],
   "source": [
    "res= data[\"data\"]\n",
    "precio= res[\"itineraries\"][0][\"price\"][\"raw\"]\n",
    "\n",
    "origen= res[\"itineraries\"][0][\"legs\"][0][\"origin\"][\"city\"]\n",
    "\n",
    "destino= res[\"itineraries\"][0][\"legs\"][0][\"destination\"][\"city\"]\n",
    "\n",
    "duracion_minuts= res[\"itineraries\"][0][\"legs\"][0][\"durationInMinutes\"]\n",
    "\n",
    "salida= res[\"itineraries\"][0][\"legs\"][0][\"departure\"]\n",
    "llegada= res[\"itineraries\"][0][\"legs\"][0][\"arrival\"]\n",
    "\n",
    "aerolinea= res[\"itineraries\"][0][\"legs\"][0][\"carriers\"][\"marketing\"][0][\"name\"]"
   ]
  },
  {
   "cell_type": "code",
   "execution_count": 16,
   "metadata": {},
   "outputs": [
    {
     "data": {
      "text/plain": [
       "{'ciudad_origen': 'Madrid',\n",
       " 'ciudad_destino': 'Málaga',\n",
       " 'salida': '2024-11-01T10:30:00',\n",
       " 'llegada': '2024-11-01T11:40:00',\n",
       " 'duracion(min)': 70,\n",
       " 'aerolinea': 'Air Europa',\n",
       " 'precio': 352.44}"
      ]
     },
     "execution_count": 16,
     "metadata": {},
     "output_type": "execute_result"
    }
   ],
   "source": [
    "dicct= {\n",
    "       \"ciudad_origen\":origen,\n",
    "       \"ciudad_destino\":destino,\n",
    "       \"salida\":salida,\n",
    "       \"llegada\":llegada,\n",
    "       \"duracion(min)\":duracion_minuts,\n",
    "       \"aerolinea\":aerolinea,\n",
    "       \"precio\":precio\n",
    "        }\n",
    "dicct"
   ]
  },
  {
   "cell_type": "code",
   "execution_count": 17,
   "metadata": {},
   "outputs": [
    {
     "data": {
      "text/html": [
       "<div>\n",
       "<style scoped>\n",
       "    .dataframe tbody tr th:only-of-type {\n",
       "        vertical-align: middle;\n",
       "    }\n",
       "\n",
       "    .dataframe tbody tr th {\n",
       "        vertical-align: top;\n",
       "    }\n",
       "\n",
       "    .dataframe thead th {\n",
       "        text-align: right;\n",
       "    }\n",
       "</style>\n",
       "<table border=\"1\" class=\"dataframe\">\n",
       "  <thead>\n",
       "    <tr style=\"text-align: right;\">\n",
       "      <th></th>\n",
       "      <th>ciudad_origen</th>\n",
       "      <th>ciudad_destino</th>\n",
       "      <th>salida</th>\n",
       "      <th>llegada</th>\n",
       "      <th>duracion(min)</th>\n",
       "      <th>aerolinea</th>\n",
       "      <th>precio</th>\n",
       "    </tr>\n",
       "  </thead>\n",
       "  <tbody>\n",
       "    <tr>\n",
       "      <th>0</th>\n",
       "      <td>Madrid</td>\n",
       "      <td>Málaga</td>\n",
       "      <td>2024-11-01T10:30:00</td>\n",
       "      <td>2024-11-01T11:40:00</td>\n",
       "      <td>70</td>\n",
       "      <td>Air Europa</td>\n",
       "      <td>352.44</td>\n",
       "    </tr>\n",
       "    <tr>\n",
       "      <th>1</th>\n",
       "      <td>Málaga</td>\n",
       "      <td>Madrid</td>\n",
       "      <td>2024-11-03T20:50:00</td>\n",
       "      <td>2024-11-03T22:05:00</td>\n",
       "      <td>75</td>\n",
       "      <td>Air Europa</td>\n",
       "      <td>352.44</td>\n",
       "    </tr>\n",
       "  </tbody>\n",
       "</table>\n",
       "</div>"
      ],
      "text/plain": [
       "  ciudad_origen ciudad_destino               salida              llegada  \\\n",
       "0        Madrid         Málaga  2024-11-01T10:30:00  2024-11-01T11:40:00   \n",
       "1        Málaga         Madrid  2024-11-03T20:50:00  2024-11-03T22:05:00   \n",
       "\n",
       "   duracion(min)   aerolinea  precio  \n",
       "0             70  Air Europa  352.44  \n",
       "1             75  Air Europa  352.44  "
      ]
     },
     "execution_count": 17,
     "metadata": {},
     "output_type": "execute_result"
    }
   ],
   "source": [
    "lista_dicct=[]\n",
    "\n",
    "for vuelo in range(0,len(res[\"itineraries\"])):\n",
    "        res= data[\"data\"]\n",
    "        precio= res[\"itineraries\"][0][\"price\"][\"raw\"]\n",
    "        for i in range(0,2):\n",
    "                origen= res[\"itineraries\"][vuelo][\"legs\"][i][\"origin\"][\"city\"]\n",
    "                destino= res[\"itineraries\"][vuelo][\"legs\"][i][\"destination\"][\"city\"]\n",
    "\n",
    "                duracion_minuts= res[\"itineraries\"][vuelo][\"legs\"][i][\"durationInMinutes\"]\n",
    "\n",
    "                salida= res[\"itineraries\"][vuelo][\"legs\"][i][\"departure\"]\n",
    "                llegada= res[\"itineraries\"][vuelo][\"legs\"][i][\"arrival\"]\n",
    "\n",
    "                aerolinea= res[\"itineraries\"][vuelo][\"legs\"][i][\"carriers\"][\"marketing\"][0][\"name\"]\n",
    "\n",
    "                dicct= {\n",
    "                \"ciudad_origen\":origen,\n",
    "                \"ciudad_destino\":destino,\n",
    "                \"salida\":salida,\n",
    "                \"llegada\":llegada,\n",
    "                \"duracion(min)\":duracion_minuts,\n",
    "                \"aerolinea\":aerolinea,\n",
    "                \"precio\":precio\n",
    "                }\n",
    "                lista_dicct.append(dicct)\n",
    "df_vuelos_malaga= pd.DataFrame(lista_dicct)\n",
    "df_vuelos_malaga.head(2)"
   ]
  },
  {
   "cell_type": "code",
   "execution_count": 18,
   "metadata": {},
   "outputs": [
    {
     "data": {
      "text/plain": [
       "ciudad_origen     0\n",
       "ciudad_destino    0\n",
       "salida            0\n",
       "llegada           0\n",
       "duracion(min)     0\n",
       "aerolinea         0\n",
       "precio            0\n",
       "dtype: int64"
      ]
     },
     "execution_count": 18,
     "metadata": {},
     "output_type": "execute_result"
    }
   ],
   "source": [
    "df_vuelos_malaga.isnull().sum()\n",
    "\n"
   ]
  },
  {
   "cell_type": "code",
   "execution_count": 19,
   "metadata": {},
   "outputs": [],
   "source": [
    "df_vuelos_malaga.to_csv('Datos/vuelos_malaga.csv')"
   ]
  },
  {
   "cell_type": "code",
   "execution_count": 3,
   "metadata": {},
   "outputs": [
    {
     "data": {
      "text/html": [
       "<div>\n",
       "<style scoped>\n",
       "    .dataframe tbody tr th:only-of-type {\n",
       "        vertical-align: middle;\n",
       "    }\n",
       "\n",
       "    .dataframe tbody tr th {\n",
       "        vertical-align: top;\n",
       "    }\n",
       "\n",
       "    .dataframe thead th {\n",
       "        text-align: right;\n",
       "    }\n",
       "</style>\n",
       "<table border=\"1\" class=\"dataframe\">\n",
       "  <thead>\n",
       "    <tr style=\"text-align: right;\">\n",
       "      <th></th>\n",
       "      <th>Unnamed: 0</th>\n",
       "      <th>ciudad_origen</th>\n",
       "      <th>ciudad_destino</th>\n",
       "      <th>salida</th>\n",
       "      <th>llegada</th>\n",
       "      <th>duracion(min)</th>\n",
       "      <th>aerolinea</th>\n",
       "      <th>precio</th>\n",
       "    </tr>\n",
       "  </thead>\n",
       "  <tbody>\n",
       "    <tr>\n",
       "      <th>0</th>\n",
       "      <td>0</td>\n",
       "      <td>Madrid</td>\n",
       "      <td>Málaga</td>\n",
       "      <td>2024-11-01T10:30:00</td>\n",
       "      <td>2024-11-01T11:40:00</td>\n",
       "      <td>70</td>\n",
       "      <td>Air Europa</td>\n",
       "      <td>352.44</td>\n",
       "    </tr>\n",
       "    <tr>\n",
       "      <th>1</th>\n",
       "      <td>1</td>\n",
       "      <td>Málaga</td>\n",
       "      <td>Madrid</td>\n",
       "      <td>2024-11-03T20:50:00</td>\n",
       "      <td>2024-11-03T22:05:00</td>\n",
       "      <td>75</td>\n",
       "      <td>Air Europa</td>\n",
       "      <td>352.44</td>\n",
       "    </tr>\n",
       "  </tbody>\n",
       "</table>\n",
       "</div>"
      ],
      "text/plain": [
       "   Unnamed: 0 ciudad_origen ciudad_destino               salida  \\\n",
       "0           0        Madrid         Málaga  2024-11-01T10:30:00   \n",
       "1           1        Málaga         Madrid  2024-11-03T20:50:00   \n",
       "\n",
       "               llegada  duracion(min)   aerolinea  precio  \n",
       "0  2024-11-01T11:40:00             70  Air Europa  352.44  \n",
       "1  2024-11-03T22:05:00             75  Air Europa  352.44  "
      ]
     },
     "execution_count": 3,
     "metadata": {},
     "output_type": "execute_result"
    }
   ],
   "source": [
    "df_vuelos = pd.read_csv('../Datos/vuelos_malaga.csv')\n",
    "df_vuelos.head(2)"
   ]
  },
  {
   "cell_type": "code",
   "execution_count": 4,
   "metadata": {},
   "outputs": [
    {
     "data": {
      "text/plain": [
       "Unnamed: 0          int64\n",
       "ciudad_origen      object\n",
       "ciudad_destino     object\n",
       "salida             object\n",
       "llegada            object\n",
       "duracion(min)       int64\n",
       "aerolinea          object\n",
       "precio            float64\n",
       "dtype: object"
      ]
     },
     "execution_count": 4,
     "metadata": {},
     "output_type": "execute_result"
    }
   ],
   "source": [
    "df_vuelos.dtypes"
   ]
  },
  {
   "cell_type": "code",
   "execution_count": 5,
   "metadata": {},
   "outputs": [
    {
     "data": {
      "text/plain": [
       "ciudad_origen      object\n",
       "ciudad_destino     object\n",
       "salida             object\n",
       "llegada            object\n",
       "duracion(min)       int64\n",
       "aerolinea          object\n",
       "precio            float64\n",
       "fecha_salida       object\n",
       "hora_salida        object\n",
       "fecha_llegada      object\n",
       "hora_llegada       object\n",
       "dtype: object"
      ]
     },
     "execution_count": 5,
     "metadata": {},
     "output_type": "execute_result"
    }
   ],
   "source": [
    "df_vuelos.drop(columns=['Unnamed: 0'], inplace=True)\n",
    "df_vuelos[['fecha_salida', 'hora_salida']] = df_vuelos['salida'].str.split('T', expand=True)\n",
    "df_vuelos[['fecha_llegada', 'hora_llegada']] = df_vuelos['llegada'].str.split('T', expand=True)\n",
    "df_vuelos.dtypes"
   ]
  },
  {
   "cell_type": "code",
   "execution_count": 6,
   "metadata": {},
   "outputs": [
    {
     "name": "stderr",
     "output_type": "stream",
     "text": [
      "C:\\Users\\HP\\AppData\\Local\\Temp\\ipykernel_9520\\161310273.py:2: UserWarning: Could not infer format, so each element will be parsed individually, falling back to `dateutil`. To ensure parsing is consistent and as-expected, please specify a format.\n",
      "  df_vuelos['hora_salida'] = pd.to_datetime(df_vuelos['hora_salida'])\n",
      "C:\\Users\\HP\\AppData\\Local\\Temp\\ipykernel_9520\\161310273.py:4: UserWarning: Could not infer format, so each element will be parsed individually, falling back to `dateutil`. To ensure parsing is consistent and as-expected, please specify a format.\n",
      "  df_vuelos['hora_llegada'] = pd.to_datetime(df_vuelos['hora_llegada'])\n"
     ]
    }
   ],
   "source": [
    "df_vuelos['fecha_salida'] = pd.to_datetime(df_vuelos['fecha_salida'])\n",
    "df_vuelos['hora_salida'] = pd.to_datetime(df_vuelos['hora_salida'])\n",
    "df_vuelos['fecha_llegada'] = pd.to_datetime(df_vuelos['fecha_llegada'])\n",
    "df_vuelos['hora_llegada'] = pd.to_datetime(df_vuelos['hora_llegada'])"
   ]
  },
  {
   "cell_type": "code",
   "execution_count": 7,
   "metadata": {},
   "outputs": [],
   "source": [
    "df_vuelos.drop(columns=['salida', 'llegada'], inplace=True)"
   ]
  },
  {
   "cell_type": "code",
   "execution_count": 8,
   "metadata": {},
   "outputs": [
    {
     "data": {
      "text/html": [
       "<div>\n",
       "<style scoped>\n",
       "    .dataframe tbody tr th:only-of-type {\n",
       "        vertical-align: middle;\n",
       "    }\n",
       "\n",
       "    .dataframe tbody tr th {\n",
       "        vertical-align: top;\n",
       "    }\n",
       "\n",
       "    .dataframe thead th {\n",
       "        text-align: right;\n",
       "    }\n",
       "</style>\n",
       "<table border=\"1\" class=\"dataframe\">\n",
       "  <thead>\n",
       "    <tr style=\"text-align: right;\">\n",
       "      <th></th>\n",
       "      <th>ciudad_origen</th>\n",
       "      <th>ciudad_destino</th>\n",
       "      <th>duracion(min)</th>\n",
       "      <th>aerolinea</th>\n",
       "      <th>precio</th>\n",
       "      <th>fecha_salida</th>\n",
       "      <th>hora_salida</th>\n",
       "      <th>fecha_llegada</th>\n",
       "      <th>hora_llegada</th>\n",
       "    </tr>\n",
       "  </thead>\n",
       "  <tbody>\n",
       "    <tr>\n",
       "      <th>0</th>\n",
       "      <td>Madrid</td>\n",
       "      <td>Málaga</td>\n",
       "      <td>70</td>\n",
       "      <td>Air Europa</td>\n",
       "      <td>352.44</td>\n",
       "      <td>2024-11-01</td>\n",
       "      <td>2024-10-20 10:30:00</td>\n",
       "      <td>2024-11-01</td>\n",
       "      <td>2024-10-20 11:40:00</td>\n",
       "    </tr>\n",
       "    <tr>\n",
       "      <th>1</th>\n",
       "      <td>Málaga</td>\n",
       "      <td>Madrid</td>\n",
       "      <td>75</td>\n",
       "      <td>Air Europa</td>\n",
       "      <td>352.44</td>\n",
       "      <td>2024-11-03</td>\n",
       "      <td>2024-10-20 20:50:00</td>\n",
       "      <td>2024-11-03</td>\n",
       "      <td>2024-10-20 22:05:00</td>\n",
       "    </tr>\n",
       "    <tr>\n",
       "      <th>2</th>\n",
       "      <td>Madrid</td>\n",
       "      <td>Málaga</td>\n",
       "      <td>70</td>\n",
       "      <td>Air Europa</td>\n",
       "      <td>352.44</td>\n",
       "      <td>2024-11-01</td>\n",
       "      <td>2024-10-20 10:30:00</td>\n",
       "      <td>2024-11-01</td>\n",
       "      <td>2024-10-20 11:40:00</td>\n",
       "    </tr>\n",
       "    <tr>\n",
       "      <th>3</th>\n",
       "      <td>Málaga</td>\n",
       "      <td>Madrid</td>\n",
       "      <td>75</td>\n",
       "      <td>Air Europa</td>\n",
       "      <td>352.44</td>\n",
       "      <td>2024-11-03</td>\n",
       "      <td>2024-10-20 08:30:00</td>\n",
       "      <td>2024-11-03</td>\n",
       "      <td>2024-10-20 09:45:00</td>\n",
       "    </tr>\n",
       "    <tr>\n",
       "      <th>4</th>\n",
       "      <td>Madrid</td>\n",
       "      <td>Málaga</td>\n",
       "      <td>70</td>\n",
       "      <td>Air Europa</td>\n",
       "      <td>352.44</td>\n",
       "      <td>2024-11-01</td>\n",
       "      <td>2024-10-20 19:00:00</td>\n",
       "      <td>2024-11-01</td>\n",
       "      <td>2024-10-20 20:10:00</td>\n",
       "    </tr>\n",
       "  </tbody>\n",
       "</table>\n",
       "</div>"
      ],
      "text/plain": [
       "  ciudad_origen ciudad_destino  duracion(min)   aerolinea  precio  \\\n",
       "0        Madrid         Málaga             70  Air Europa  352.44   \n",
       "1        Málaga         Madrid             75  Air Europa  352.44   \n",
       "2        Madrid         Málaga             70  Air Europa  352.44   \n",
       "3        Málaga         Madrid             75  Air Europa  352.44   \n",
       "4        Madrid         Málaga             70  Air Europa  352.44   \n",
       "\n",
       "  fecha_salida         hora_salida fecha_llegada        hora_llegada  \n",
       "0   2024-11-01 2024-10-20 10:30:00    2024-11-01 2024-10-20 11:40:00  \n",
       "1   2024-11-03 2024-10-20 20:50:00    2024-11-03 2024-10-20 22:05:00  \n",
       "2   2024-11-01 2024-10-20 10:30:00    2024-11-01 2024-10-20 11:40:00  \n",
       "3   2024-11-03 2024-10-20 08:30:00    2024-11-03 2024-10-20 09:45:00  \n",
       "4   2024-11-01 2024-10-20 19:00:00    2024-11-01 2024-10-20 20:10:00  "
      ]
     },
     "execution_count": 8,
     "metadata": {},
     "output_type": "execute_result"
    }
   ],
   "source": [
    "df_vuelos.head()"
   ]
  },
  {
   "cell_type": "code",
   "execution_count": 10,
   "metadata": {},
   "outputs": [],
   "source": [
    "df_vuelos.to_csv('../Datos/vuelos_malaga.csv')"
   ]
  }
 ],
 "metadata": {
  "kernelspec": {
   "display_name": "Webscraping",
   "language": "python",
   "name": "python3"
  },
  "language_info": {
   "codemirror_mode": {
    "name": "ipython",
    "version": 3
   },
   "file_extension": ".py",
   "mimetype": "text/x-python",
   "name": "python",
   "nbconvert_exporter": "python",
   "pygments_lexer": "ipython3",
   "version": "3.13.0"
  }
 },
 "nbformat": 4,
 "nbformat_minor": 2
}
