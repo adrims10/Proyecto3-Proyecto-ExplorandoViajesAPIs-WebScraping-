{
 "cells": [
  {
   "cell_type": "code",
   "execution_count": 1,
   "metadata": {},
   "outputs": [],
   "source": [
    "from bs4 import BeautifulSoup\n",
    "import requests\n",
    "import pandas as pd\n",
    "import numpy as np\n",
    "from time import sleep\n",
    "from selenium import webdriver  \n",
    "from webdriver_manager.chrome import ChromeDriverManager \n",
    "from selenium.webdriver.common.keys import Keys  \n",
    "from selenium.webdriver.support.ui import Select  \n",
    "from selenium.webdriver.support.ui import WebDriverWait\n",
    "from selenium.webdriver.support import expected_conditions as EC\n",
    "from selenium.common.exceptions import NoSuchElementException \n",
    "import re\n",
    "import re\n",
    "import sys\n",
    "import os\n",
    "import dotenv \n",
    "dotenv.load_dotenv()\n",
    "\n",
    "\n",
    "key = os.getenv(\"token\")"
   ]
  },
  {
   "cell_type": "code",
   "execution_count": 2,
   "metadata": {},
   "outputs": [
    {
     "data": {
      "text/plain": [
       "list"
      ]
     },
     "execution_count": 2,
     "metadata": {},
     "output_type": "execute_result"
    }
   ],
   "source": [
    "url = \"https://tripadvisor16.p.rapidapi.com/api/v1/hotels/searchHotels\"\n",
    "querystring = {\n",
    "    \"geoId\": \"187449\",                                          #fechas parametros de la API\n",
    "    \"checkIn\": \"2024-11-01\",\n",
    "    \"checkOut\": \"2024-11-03\",                                   #Dos adultos\n",
    "    \"pageNumber\": \"1\",\n",
    "    \"adults\": \"2\",\n",
    "    \"currencyCode\": \"EUR\"\n",
    "}\n",
    "headers = {\n",
    "    \"x-rapidapi-key\": key,\n",
    "    \"x-rapidapi-host\": \"tripadvisor16.p.rapidapi.com\"\n",
    "}\n",
    "\n",
    "response = requests.get(url, headers=headers, params=querystring)\n",
    "if response.status_code == 200:\n",
    "    res = response.json()\n",
    "    \n",
    "    #como res es un diccionario que incluye dos elementos datas , entonces tenemos que entrar en el segundo data que es una\n",
    "    #lista de diccionarios\n",
    "\n",
    "    if 'data' in res and 'data' in res['data']: \n",
    "        hoteles = res['data']['data']\n",
    "\n",
    "type(hoteles)\n"
   ]
  },
  {
   "cell_type": "code",
   "execution_count": 3,
   "metadata": {},
   "outputs": [
    {
     "data": {
      "text/html": [
       "<div>\n",
       "<style scoped>\n",
       "    .dataframe tbody tr th:only-of-type {\n",
       "        vertical-align: middle;\n",
       "    }\n",
       "\n",
       "    .dataframe tbody tr th {\n",
       "        vertical-align: top;\n",
       "    }\n",
       "\n",
       "    .dataframe thead th {\n",
       "        text-align: right;\n",
       "    }\n",
       "</style>\n",
       "<table border=\"1\" class=\"dataframe\">\n",
       "  <thead>\n",
       "    <tr style=\"text-align: right;\">\n",
       "      <th></th>\n",
       "      <th>Title</th>\n",
       "      <th>Badge Size</th>\n",
       "      <th>Bubble Rating Value</th>\n",
       "      <th>Details Text</th>\n",
       "      <th>Price</th>\n",
       "      <th>Provider</th>\n",
       "      <th>External URL</th>\n",
       "    </tr>\n",
       "  </thead>\n",
       "  <tbody>\n",
       "    <tr>\n",
       "      <th>0</th>\n",
       "      <td>Pension Alvaro</td>\n",
       "      <td>None</td>\n",
       "      <td>3.5</td>\n",
       "      <td>None</td>\n",
       "      <td>€65</td>\n",
       "      <td>Booking.com</td>\n",
       "      <td>https://www.tripadvisor.in/Commerce?p=BookingC...</td>\n",
       "    </tr>\n",
       "    <tr>\n",
       "      <th>1</th>\n",
       "      <td>1. Barceló Oviedo Cervantes</td>\n",
       "      <td>SMALL</td>\n",
       "      <td>4.5</td>\n",
       "      <td>None</td>\n",
       "      <td>€168</td>\n",
       "      <td>Booking.com</td>\n",
       "      <td>https://www.tripadvisor.in/Commerce?p=BookingC...</td>\n",
       "    </tr>\n",
       "  </tbody>\n",
       "</table>\n",
       "</div>"
      ],
      "text/plain": [
       "                         Title Badge Size  Bubble Rating Value Details Text  \\\n",
       "0               Pension Alvaro       None                  3.5         None   \n",
       "1  1. Barceló Oviedo Cervantes      SMALL                  4.5         None   \n",
       "\n",
       "  Price     Provider                                       External URL  \n",
       "0   €65  Booking.com  https://www.tripadvisor.in/Commerce?p=BookingC...  \n",
       "1  €168  Booking.com  https://www.tripadvisor.in/Commerce?p=BookingC...  "
      ]
     },
     "execution_count": 3,
     "metadata": {},
     "output_type": "execute_result"
    }
   ],
   "source": [
    "data = []\n",
    "for hotel in hoteles:\n",
    "        title = hotel.get('title')\n",
    "            \n",
    "        badge = hotel.get('badge', {})\n",
    "        badge_size = badge.get('size')\n",
    "        bubble_rating = hotel.get('bubbleRating', {})\n",
    "        bubble_rating_value = bubble_rating.get('rating')\n",
    "        price = hotel.get('priceForDisplay')\n",
    "        provider = hotel.get('provider')\n",
    "        card_photos = hotel.get('cardPhotos', [])\n",
    "        commerce_info = hotel.get('commerceInfo', {})\n",
    "        external_url = commerce_info.get('externalUrl')\n",
    "        details = hotel.get('details', {})\n",
    "        details_text = details.get('text')\n",
    "\n",
    "        data.append({\n",
    "                'Title': title,\n",
    "                'Badge Size': badge_size,\n",
    "                'Bubble Rating Value': bubble_rating_value,\n",
    "                'Details Text': details_text,\n",
    "                'Price': price,\n",
    "                'Provider': provider,\n",
    "                'External URL': external_url\n",
    "                \n",
    "            })\n",
    "        \n",
    "df = pd.DataFrame(data)\n",
    "\n",
    "\n",
    "df.head(2)\n",
    "  "
   ]
  },
  {
   "cell_type": "code",
   "execution_count": 4,
   "metadata": {},
   "outputs": [
    {
     "data": {
      "text/plain": [
       "dict"
      ]
     },
     "execution_count": 4,
     "metadata": {},
     "output_type": "execute_result"
    }
   ],
   "source": [
    "type(res)   "
   ]
  },
  {
   "cell_type": "code",
   "execution_count": 5,
   "metadata": {},
   "outputs": [
    {
     "data": {
      "text/plain": [
       "Title                   0\n",
       "Badge Size             24\n",
       "Bubble Rating Value     0\n",
       "Details Text           37\n",
       "Price                   1\n",
       "Provider                0\n",
       "External URL            1\n",
       "dtype: int64"
      ]
     },
     "execution_count": 5,
     "metadata": {},
     "output_type": "execute_result"
    }
   ],
   "source": [
    "df.isnull().sum()"
   ]
  },
  {
   "cell_type": "code",
   "execution_count": 6,
   "metadata": {},
   "outputs": [],
   "source": [
    "df_Asturias = df.fillna('Nan')"
   ]
  },
  {
   "cell_type": "code",
   "execution_count": 7,
   "metadata": {},
   "outputs": [],
   "source": [
    "df_Asturias.columns = ['Nombre Hotel','Talla','Puntuacion media','Detalles extra','Precio','Proveedor','URL']"
   ]
  },
  {
   "cell_type": "code",
   "execution_count": 8,
   "metadata": {},
   "outputs": [
    {
     "name": "stdout",
     "output_type": "stream",
     "text": [
      "<class 'pandas.core.frame.DataFrame'>\n",
      "RangeIndex: 37 entries, 0 to 36\n",
      "Data columns (total 7 columns):\n",
      " #   Column            Non-Null Count  Dtype  \n",
      "---  ------            --------------  -----  \n",
      " 0   Nombre Hotel      37 non-null     object \n",
      " 1   Talla             37 non-null     object \n",
      " 2   Puntuacion media  37 non-null     float64\n",
      " 3   Detalles extra    37 non-null     object \n",
      " 4   Precio            37 non-null     object \n",
      " 5   Proveedor         37 non-null     object \n",
      " 6   URL               37 non-null     object \n",
      "dtypes: float64(1), object(6)\n",
      "memory usage: 2.2+ KB\n"
     ]
    }
   ],
   "source": [
    "df_Asturias.info()"
   ]
  },
  {
   "cell_type": "code",
   "execution_count": 3,
   "metadata": {},
   "outputs": [
    {
     "data": {
      "text/html": [
       "<div>\n",
       "<style scoped>\n",
       "    .dataframe tbody tr th:only-of-type {\n",
       "        vertical-align: middle;\n",
       "    }\n",
       "\n",
       "    .dataframe tbody tr th {\n",
       "        vertical-align: top;\n",
       "    }\n",
       "\n",
       "    .dataframe thead th {\n",
       "        text-align: right;\n",
       "    }\n",
       "</style>\n",
       "<table border=\"1\" class=\"dataframe\">\n",
       "  <thead>\n",
       "    <tr style=\"text-align: right;\">\n",
       "      <th></th>\n",
       "      <th>Unnamed: 0</th>\n",
       "      <th>Nombre Hotel</th>\n",
       "      <th>Talla</th>\n",
       "      <th>Puntuacion media</th>\n",
       "      <th>Detalles extra</th>\n",
       "      <th>Precio</th>\n",
       "      <th>Proveedor</th>\n",
       "      <th>URL</th>\n",
       "    </tr>\n",
       "  </thead>\n",
       "  <tbody>\n",
       "    <tr>\n",
       "      <th>0</th>\n",
       "      <td>0</td>\n",
       "      <td>HOTEL VALLE LAS LUIÑAS</td>\n",
       "      <td>Nan</td>\n",
       "      <td>4.5</td>\n",
       "      <td>Nan</td>\n",
       "      <td>88.0</td>\n",
       "      <td>Booking.com</td>\n",
       "      <td>https://www.tripadvisor.in/Commerce?p=BookingC...</td>\n",
       "    </tr>\n",
       "    <tr>\n",
       "      <th>1</th>\n",
       "      <td>1</td>\n",
       "      <td>1. Barceló Oviedo Cervantes</td>\n",
       "      <td>SMALL</td>\n",
       "      <td>4.5</td>\n",
       "      <td>Nan</td>\n",
       "      <td>151.0</td>\n",
       "      <td>Booking.com</td>\n",
       "      <td>https://www.tripadvisor.in/Commerce?p=BookingC...</td>\n",
       "    </tr>\n",
       "  </tbody>\n",
       "</table>\n",
       "</div>"
      ],
      "text/plain": [
       "   Unnamed: 0                 Nombre Hotel  Talla  Puntuacion media  \\\n",
       "0           0       HOTEL VALLE LAS LUIÑAS    Nan               4.5   \n",
       "1           1  1. Barceló Oviedo Cervantes  SMALL               4.5   \n",
       "\n",
       "  Detalles extra  Precio    Proveedor  \\\n",
       "0            Nan    88.0  Booking.com   \n",
       "1            Nan   151.0  Booking.com   \n",
       "\n",
       "                                                 URL  \n",
       "0  https://www.tripadvisor.in/Commerce?p=BookingC...  \n",
       "1  https://www.tripadvisor.in/Commerce?p=BookingC...  "
      ]
     },
     "execution_count": 3,
     "metadata": {},
     "output_type": "execute_result"
    }
   ],
   "source": [
    "df_hoteles = pd.read_csv('../Datos/tripadvaisor_Asturias.csv')\n",
    "df_hoteles.head(2)"
   ]
  },
  {
   "cell_type": "code",
   "execution_count": 5,
   "metadata": {},
   "outputs": [],
   "source": [
    "df_hoteles['Ciudad'] = 'Asturias'"
   ]
  },
  {
   "cell_type": "code",
   "execution_count": 6,
   "metadata": {},
   "outputs": [
    {
     "data": {
      "text/plain": [
       "Unnamed: 0            int64\n",
       "Nombre Hotel         object\n",
       "Talla                object\n",
       "Puntuacion media    float64\n",
       "Detalles extra       object\n",
       "Precio              float64\n",
       "Proveedor            object\n",
       "URL                  object\n",
       "Ciudad               object\n",
       "dtype: object"
      ]
     },
     "execution_count": 6,
     "metadata": {},
     "output_type": "execute_result"
    }
   ],
   "source": [
    "df_hoteles.dtypes"
   ]
  },
  {
   "cell_type": "code",
   "execution_count": 7,
   "metadata": {},
   "outputs": [],
   "source": [
    "df_hoteles.drop(columns=['Unnamed: 0'], inplace=True)"
   ]
  },
  {
   "cell_type": "code",
   "execution_count": null,
   "metadata": {},
   "outputs": [],
   "source": [
    "df_hoteles['Precio'] = df_hoteles['Precio'].str.replace(',', '.')\n",
    "df_hoteles['Precio'] = df_hoteles['Precio'].str.replace('€', '')"
   ]
  },
  {
   "cell_type": "code",
   "execution_count": 9,
   "metadata": {},
   "outputs": [],
   "source": [
    "df_hoteles['Precio'] = df_hoteles['Precio'].astype(float)"
   ]
  },
  {
   "cell_type": "code",
   "execution_count": 10,
   "metadata": {},
   "outputs": [
    {
     "data": {
      "text/plain": [
       "Nombre Hotel         object\n",
       "Talla                object\n",
       "Puntuacion media    float64\n",
       "Detalles extra       object\n",
       "Precio              float64\n",
       "Proveedor            object\n",
       "URL                  object\n",
       "Ciudad               object\n",
       "dtype: object"
      ]
     },
     "execution_count": 10,
     "metadata": {},
     "output_type": "execute_result"
    }
   ],
   "source": [
    "df_hoteles.head(2)\n",
    "df_hoteles.dtypes"
   ]
  },
  {
   "cell_type": "code",
   "execution_count": 11,
   "metadata": {},
   "outputs": [],
   "source": [
    "df_hoteles.to_csv('../Datos/tripadvaisor_Asturias.csv')"
   ]
  }
 ],
 "metadata": {
  "kernelspec": {
   "display_name": "Webscraping",
   "language": "python",
   "name": "python3"
  },
  "language_info": {
   "codemirror_mode": {
    "name": "ipython",
    "version": 3
   },
   "file_extension": ".py",
   "mimetype": "text/x-python",
   "name": "python",
   "nbconvert_exporter": "python",
   "pygments_lexer": "ipython3",
   "version": "3.13.0"
  }
 },
 "nbformat": 4,
 "nbformat_minor": 2
}
