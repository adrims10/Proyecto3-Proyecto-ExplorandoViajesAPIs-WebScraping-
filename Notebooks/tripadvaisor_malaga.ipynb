{
 "cells": [
  {
   "cell_type": "code",
   "execution_count": 1,
   "metadata": {},
   "outputs": [],
   "source": [
    "from bs4 import BeautifulSoup\n",
    "import requests\n",
    "import pandas as pd\n",
    "import numpy as np\n",
    "from time import sleep\n",
    "from selenium import webdriver  \n",
    "from webdriver_manager.chrome import ChromeDriverManager \n",
    "from selenium.webdriver.common.keys import Keys  \n",
    "from selenium.webdriver.support.ui import Select  \n",
    "from selenium.webdriver.support.ui import WebDriverWait\n",
    "from selenium.webdriver.support import expected_conditions as EC\n",
    "from selenium.common.exceptions import NoSuchElementException \n",
    "import re\n",
    "import re\n",
    "import sys\n",
    "import os\n",
    "import dotenv \n",
    "dotenv.load_dotenv()\n",
    "\n",
    "\n",
    "key = os.getenv(\"token\")"
   ]
  },
  {
   "cell_type": "code",
   "execution_count": 2,
   "metadata": {},
   "outputs": [
    {
     "data": {
      "text/plain": [
       "list"
      ]
     },
     "execution_count": 2,
     "metadata": {},
     "output_type": "execute_result"
    }
   ],
   "source": [
    "url = \"https://tripadvisor16.p.rapidapi.com/api/v1/hotels/searchHotels\"\n",
    "querystring = {\n",
    "    \"geoId\": \"187438\",\n",
    "    \"checkIn\": \"2024-11-01\",\n",
    "    \"checkOut\": \"2024-11-03\",\n",
    "    \"pageNumber\": \"1\",\n",
    "    \"adults\": \"2\",\n",
    "    \"currencyCode\": \"EUR\"\n",
    "}\n",
    "headers = {\n",
    "    \"x-rapidapi-key\": key,\n",
    "    \"x-rapidapi-host\": \"tripadvisor16.p.rapidapi.com\"\n",
    "}\n",
    "\n",
    "response = requests.get(url, headers=headers, params=querystring)\n",
    "if response.status_code == 200:\n",
    "    res = response.json()\n",
    "    \n",
    "    #como res es un diccionario que incluye dos elementos datas , entonces tenemos que entrar en el segundo data que es una\n",
    "    #lista de diccionarios\n",
    "\n",
    "    if 'data' in res and 'data' in res['data']: \n",
    "        hoteles = res['data']['data']\n",
    "\n",
    "type(hoteles)\n"
   ]
  },
  {
   "cell_type": "code",
   "execution_count": 3,
   "metadata": {},
   "outputs": [
    {
     "data": {
      "text/html": [
       "<div>\n",
       "<style scoped>\n",
       "    .dataframe tbody tr th:only-of-type {\n",
       "        vertical-align: middle;\n",
       "    }\n",
       "\n",
       "    .dataframe tbody tr th {\n",
       "        vertical-align: top;\n",
       "    }\n",
       "\n",
       "    .dataframe thead th {\n",
       "        text-align: right;\n",
       "    }\n",
       "</style>\n",
       "<table border=\"1\" class=\"dataframe\">\n",
       "  <thead>\n",
       "    <tr style=\"text-align: right;\">\n",
       "      <th></th>\n",
       "      <th>Title</th>\n",
       "      <th>Badge Size</th>\n",
       "      <th>Bubble Rating Value</th>\n",
       "      <th>Details Text</th>\n",
       "      <th>Price</th>\n",
       "      <th>Provider</th>\n",
       "      <th>External URL</th>\n",
       "    </tr>\n",
       "  </thead>\n",
       "  <tbody>\n",
       "    <tr>\n",
       "      <th>0</th>\n",
       "      <td>1. ibis budget Malaga Aeropuerto Avenida Velaz...</td>\n",
       "      <td>None</td>\n",
       "      <td>3.5</td>\n",
       "      <td>None</td>\n",
       "      <td>€95</td>\n",
       "      <td>ibis Budget</td>\n",
       "      <td>https://www.tripadvisor.in/Commerce?p=Accor&amp;sr...</td>\n",
       "    </tr>\n",
       "    <tr>\n",
       "      <th>1</th>\n",
       "      <td>2. Vincci Larios Diez</td>\n",
       "      <td>SMALL</td>\n",
       "      <td>5.0</td>\n",
       "      <td>None</td>\n",
       "      <td>None</td>\n",
       "      <td>Booking.com</td>\n",
       "      <td>None</td>\n",
       "    </tr>\n",
       "  </tbody>\n",
       "</table>\n",
       "</div>"
      ],
      "text/plain": [
       "                                               Title Badge Size  \\\n",
       "0  1. ibis budget Malaga Aeropuerto Avenida Velaz...       None   \n",
       "1                              2. Vincci Larios Diez      SMALL   \n",
       "\n",
       "   Bubble Rating Value Details Text Price     Provider  \\\n",
       "0                  3.5         None   €95  ibis Budget   \n",
       "1                  5.0         None  None  Booking.com   \n",
       "\n",
       "                                        External URL  \n",
       "0  https://www.tripadvisor.in/Commerce?p=Accor&sr...  \n",
       "1                                               None  "
      ]
     },
     "execution_count": 3,
     "metadata": {},
     "output_type": "execute_result"
    }
   ],
   "source": [
    "data = []\n",
    "for hotel in hoteles:\n",
    "        title = hotel.get('title')\n",
    "            \n",
    "        badge = hotel.get('badge', {})\n",
    "        badge_size = badge.get('size')\n",
    "        bubble_rating = hotel.get('bubbleRating', {})\n",
    "        bubble_rating_value = bubble_rating.get('rating')\n",
    "        price = hotel.get('priceForDisplay')\n",
    "        provider = hotel.get('provider')\n",
    "        card_photos = hotel.get('cardPhotos', [])\n",
    "        commerce_info = hotel.get('commerceInfo', {})\n",
    "        external_url = commerce_info.get('externalUrl')\n",
    "        details = hotel.get('details', {})\n",
    "        details_text = details.get('text')\n",
    "\n",
    "        data.append({\n",
    "                'Title': title,\n",
    "                'Badge Size': badge_size,\n",
    "                'Bubble Rating Value': bubble_rating_value,\n",
    "                'Details Text': details_text,\n",
    "                'Price': price,\n",
    "                'Provider': provider,\n",
    "                'External URL': external_url\n",
    "                \n",
    "            })\n",
    "        \n",
    "df = pd.DataFrame(data)\n",
    "\n",
    "\n",
    "df.head(2)\n",
    "  "
   ]
  },
  {
   "cell_type": "code",
   "execution_count": 5,
   "metadata": {},
   "outputs": [
    {
     "data": {
      "text/plain": [
       "dict"
      ]
     },
     "execution_count": 5,
     "metadata": {},
     "output_type": "execute_result"
    }
   ],
   "source": [
    "type(res)   "
   ]
  },
  {
   "cell_type": "code",
   "execution_count": 7,
   "metadata": {},
   "outputs": [
    {
     "data": {
      "text/plain": [
       "Title                   0\n",
       "Badge Size              9\n",
       "Bubble Rating Value     0\n",
       "Details Text           30\n",
       "Price                  29\n",
       "Provider                3\n",
       "External URL           29\n",
       "dtype: int64"
      ]
     },
     "execution_count": 7,
     "metadata": {},
     "output_type": "execute_result"
    }
   ],
   "source": [
    "df.isnull().sum()"
   ]
  },
  {
   "cell_type": "code",
   "execution_count": 8,
   "metadata": {},
   "outputs": [],
   "source": [
    "df_malaga = df.fillna('Nan')"
   ]
  },
  {
   "cell_type": "code",
   "execution_count": 9,
   "metadata": {},
   "outputs": [],
   "source": [
    "df_malaga.columns = ['Nombre Hotel','Talla','Puntuacion media','Detalles extra','Precio','Proveedor','URL']"
   ]
  },
  {
   "cell_type": "code",
   "execution_count": 14,
   "metadata": {},
   "outputs": [
    {
     "name": "stdout",
     "output_type": "stream",
     "text": [
      "<class 'pandas.core.frame.DataFrame'>\n",
      "RangeIndex: 30 entries, 0 to 29\n",
      "Data columns (total 7 columns):\n",
      " #   Column            Non-Null Count  Dtype  \n",
      "---  ------            --------------  -----  \n",
      " 0   Nombre Hotel      30 non-null     object \n",
      " 1   Talla             30 non-null     object \n",
      " 2   Puntuacion media  30 non-null     float64\n",
      " 3   Detalles extra    30 non-null     object \n",
      " 4   Precio            30 non-null     object \n",
      " 5   Proveedor         30 non-null     object \n",
      " 6   URL               30 non-null     object \n",
      "dtypes: float64(1), object(6)\n",
      "memory usage: 1.8+ KB\n"
     ]
    }
   ],
   "source": [
    "df_malaga.info()"
   ]
  },
  {
   "cell_type": "code",
   "execution_count": 18,
   "metadata": {},
   "outputs": [],
   "source": [
    "df_malaga.to_csv('tripadvaisor_malaga.csv')"
   ]
  },
  {
   "cell_type": "code",
   "execution_count": 20,
   "metadata": {},
   "outputs": [
    {
     "data": {
      "text/html": [
       "<div>\n",
       "<style scoped>\n",
       "    .dataframe tbody tr th:only-of-type {\n",
       "        vertical-align: middle;\n",
       "    }\n",
       "\n",
       "    .dataframe tbody tr th {\n",
       "        vertical-align: top;\n",
       "    }\n",
       "\n",
       "    .dataframe thead th {\n",
       "        text-align: right;\n",
       "    }\n",
       "</style>\n",
       "<table border=\"1\" class=\"dataframe\">\n",
       "  <thead>\n",
       "    <tr style=\"text-align: right;\">\n",
       "      <th></th>\n",
       "      <th>Unnamed: 0</th>\n",
       "      <th>Nombre Hotel</th>\n",
       "      <th>Talla</th>\n",
       "      <th>Puntuacion media</th>\n",
       "      <th>Detalles extra</th>\n",
       "      <th>Precio</th>\n",
       "      <th>Proveedor</th>\n",
       "      <th>URL</th>\n",
       "    </tr>\n",
       "  </thead>\n",
       "  <tbody>\n",
       "    <tr>\n",
       "      <th>0</th>\n",
       "      <td>0</td>\n",
       "      <td>1. ibis budget Malaga Aeropuerto Avenida Velaz...</td>\n",
       "      <td>Nan</td>\n",
       "      <td>3.5</td>\n",
       "      <td>Nan</td>\n",
       "      <td>€95</td>\n",
       "      <td>ibis Budget</td>\n",
       "      <td>https://www.tripadvisor.in/Commerce?p=Accor&amp;sr...</td>\n",
       "    </tr>\n",
       "    <tr>\n",
       "      <th>1</th>\n",
       "      <td>1</td>\n",
       "      <td>2. Vincci Larios Diez</td>\n",
       "      <td>SMALL</td>\n",
       "      <td>5.0</td>\n",
       "      <td>Nan</td>\n",
       "      <td>Nan</td>\n",
       "      <td>Booking.com</td>\n",
       "      <td>Nan</td>\n",
       "    </tr>\n",
       "  </tbody>\n",
       "</table>\n",
       "</div>"
      ],
      "text/plain": [
       "   Unnamed: 0                                       Nombre Hotel  Talla  \\\n",
       "0           0  1. ibis budget Malaga Aeropuerto Avenida Velaz...    Nan   \n",
       "1           1                              2. Vincci Larios Diez  SMALL   \n",
       "\n",
       "   Puntuacion media Detalles extra Precio    Proveedor  \\\n",
       "0               3.5            Nan    €95  ibis Budget   \n",
       "1               5.0            Nan    Nan  Booking.com   \n",
       "\n",
       "                                                 URL  \n",
       "0  https://www.tripadvisor.in/Commerce?p=Accor&sr...  \n",
       "1                                                Nan  "
      ]
     },
     "execution_count": 20,
     "metadata": {},
     "output_type": "execute_result"
    }
   ],
   "source": [
    "df_hoteles = pd.read_csv('../Datos/tripadvaisor_malaga.csv')\n",
    "df_hoteles.head(2)"
   ]
  },
  {
   "cell_type": "code",
   "execution_count": 21,
   "metadata": {},
   "outputs": [
    {
     "data": {
      "text/plain": [
       "Unnamed: 0            int64\n",
       "Nombre Hotel         object\n",
       "Talla                object\n",
       "Puntuacion media    float64\n",
       "Detalles extra       object\n",
       "Precio               object\n",
       "Proveedor            object\n",
       "URL                  object\n",
       "dtype: object"
      ]
     },
     "execution_count": 21,
     "metadata": {},
     "output_type": "execute_result"
    }
   ],
   "source": [
    "df_hoteles.dtypes"
   ]
  },
  {
   "cell_type": "code",
   "execution_count": 22,
   "metadata": {},
   "outputs": [],
   "source": [
    "df_hoteles.drop(columns=['Unnamed: 0'], inplace=True)\n",
    "df_hoteles['Precio'] = df_hoteles['Precio'].str.replace(',', '.')\n",
    "df_hoteles['Precio'] = df_hoteles['Precio'].str.replace('€', '')"
   ]
  },
  {
   "cell_type": "code",
   "execution_count": 23,
   "metadata": {},
   "outputs": [],
   "source": [
    "df_hoteles['Precio'] = df_hoteles['Precio'].astype(float)"
   ]
  },
  {
   "cell_type": "code",
   "execution_count": 24,
   "metadata": {},
   "outputs": [
    {
     "data": {
      "text/plain": [
       "Nombre Hotel         object\n",
       "Talla                object\n",
       "Puntuacion media    float64\n",
       "Detalles extra       object\n",
       "Precio              float64\n",
       "Proveedor            object\n",
       "URL                  object\n",
       "dtype: object"
      ]
     },
     "execution_count": 24,
     "metadata": {},
     "output_type": "execute_result"
    }
   ],
   "source": [
    "df_hoteles.head(2)\n",
    "df_hoteles.dtypes"
   ]
  },
  {
   "cell_type": "code",
   "execution_count": 25,
   "metadata": {},
   "outputs": [],
   "source": [
    "df_hoteles.to_csv('../Datos/tripadvaisor_malaga.csv')"
   ]
  }
 ],
 "metadata": {
  "kernelspec": {
   "display_name": "Webscraping",
   "language": "python",
   "name": "python3"
  },
  "language_info": {
   "codemirror_mode": {
    "name": "ipython",
    "version": 3
   },
   "file_extension": ".py",
   "mimetype": "text/x-python",
   "name": "python",
   "nbconvert_exporter": "python",
   "pygments_lexer": "ipython3",
   "version": "3.13.0"
  }
 },
 "nbformat": 4,
 "nbformat_minor": 2
}
