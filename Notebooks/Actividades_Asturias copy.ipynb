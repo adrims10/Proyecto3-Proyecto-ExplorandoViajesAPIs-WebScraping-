{
 "cells": [
  {
   "cell_type": "code",
   "execution_count": 4,
   "metadata": {},
   "outputs": [],
   "source": [
    "from bs4 import BeautifulSoup\n",
    "import requests\n",
    "import pandas as pd\n",
    "import numpy as np\n",
    "from time import sleep\n",
    "from selenium import webdriver  \n",
    "from webdriver_manager.chrome import ChromeDriverManager \n",
    "from selenium.webdriver.common.keys import Keys  \n",
    "from selenium.webdriver.support.ui import Select  \n",
    "from selenium.webdriver.support.ui import WebDriverWait\n",
    "from selenium.webdriver.support import expected_conditions as EC\n",
    "from selenium.common.exceptions import NoSuchElementException \n",
    "import re"
   ]
  },
  {
   "cell_type": "code",
   "execution_count": 5,
   "metadata": {},
   "outputs": [],
   "source": [
    "# llegamos a las actividades en Asturias\n",
    "driver = webdriver.Chrome()             \n",
    "url = 'https://www.civitatis.com/es/'\n",
    "driver.get(url)\n",
    "driver.maximize_window()  \n",
    "driver.find_element('css selector','#didomi-notice-agree-button > span').click()\n",
    "driver.find_element('css selector','#home-search-text').click()\n",
    "sleep(5)\n",
    "driver.find_element('css selector','#home-search-text').send_keys('asturias',Keys.TAB)\n",
    "driver.find_element('css selector','#page-header__search-button').click()"
   ]
  },
  {
   "cell_type": "code",
   "execution_count": 6,
   "metadata": {},
   "outputs": [],
   "source": [
    "pagina = 1\n",
    "ciudad = 'asturias'\n"
   ]
  },
  {
   "cell_type": "code",
   "execution_count": 7,
   "metadata": {},
   "outputs": [],
   "source": [
    "url = 'https://www.civitatis.com/es/{ciudad}/'          #url no dinamica de momento porque la pagina peta\n",
    "                                                        #literalmente no hace la resq"
   ]
  },
  {
   "cell_type": "code",
   "execution_count": 8,
   "metadata": {},
   "outputs": [
    {
     "name": "stdout",
     "output_type": "stream",
     "text": [
      "Error en la solicitud\n"
     ]
    },
    {
     "data": {
      "text/html": [
       "<div>\n",
       "<style scoped>\n",
       "    .dataframe tbody tr th:only-of-type {\n",
       "        vertical-align: middle;\n",
       "    }\n",
       "\n",
       "    .dataframe tbody tr th {\n",
       "        vertical-align: top;\n",
       "    }\n",
       "\n",
       "    .dataframe thead th {\n",
       "        text-align: right;\n",
       "    }\n",
       "</style>\n",
       "<table border=\"1\" class=\"dataframe\">\n",
       "  <thead>\n",
       "    <tr style=\"text-align: right;\">\n",
       "      <th></th>\n",
       "    </tr>\n",
       "  </thead>\n",
       "  <tbody>\n",
       "  </tbody>\n",
       "</table>\n",
       "</div>"
      ],
      "text/plain": [
       "Empty DataFrame\n",
       "Columns: []\n",
       "Index: []"
      ]
     },
     "execution_count": 8,
     "metadata": {},
     "output_type": "execute_result"
    }
   ],
   "source": [
    "\n",
    "def carga_datos():\n",
    "    \"\"\"_summary_:Cargar datos de actividades desde una página web.\n",
    "\n",
    "    Realiza una solicitud HTTP a la URL especificada, analiza el contenido HTML\n",
    "    para extraer información sobre actividades, incluyendo títulos, descripciones\n",
    "    y precios, y devuelve esta información en un DataFrame de pandas.\n",
    "\n",
    "    Returns:\n",
    "        pd.DataFrame: Un DataFrame que contiene tres columnas: 'Actividad', \n",
    "        'Descripción' y 'Precio'. Si la solicitud falla o no se encuentran \n",
    "        productos, se devuelve un DataFrame vacío.\n",
    "\n",
    "    \"\"\"\n",
    "\n",
    "    res = requests.get(url)\n",
    "    if res.status_code == 200:\n",
    "        print(\"Solicitud exitosa\")\n",
    "    else:\n",
    "        print(\"Error en la solicitud\")\n",
    "        return pd.DataFrame()  \n",
    "\n",
    "    sopa_actividades = BeautifulSoup(res.content, \"html.parser\")\n",
    "    lista_productos = sopa_actividades.findAll(\"div\", {'class': 'o-search-list__item'})\n",
    "    # Listas para almacenar los datos\n",
    "    titulos = []\n",
    "    descripciones = []\n",
    "    precios = []\n",
    "    for producto in lista_productos:\n",
    "        # Buscar los elementos\n",
    "        titulo_elemento = producto.find('h2')\n",
    "        descripcion_elemento = producto.find(\"div\", {'class': 'comfort-card__text l-list-card__text'})\n",
    "        precio_elemento = producto.find(\"span\", {'class': 'comfort-card__price__text'})\n",
    "        \n",
    "        if titulo_elemento and descripcion_elemento and precio_elemento:\n",
    "            titulo = titulo_elemento.get_text(strip=True)\n",
    "            descripcion = descripcion_elemento.get_text(strip=True)\n",
    "            precio = precio_elemento.get_text(strip=True)\n",
    "            \n",
    "            # Añadir los datos a las listas\n",
    "            titulos.append(titulo)\n",
    "            descripciones.append(descripcion)\n",
    "            precios.append(precio)\n",
    "      \n",
    "    # Crear un DataFrame con los datos\n",
    "    df = pd.DataFrame({\n",
    "        'Actividad': titulos,\n",
    "        'Descripción': descripciones,\n",
    "        'Precio': precios,\n",
    "    })\n",
    "\n",
    "    return df\n",
    "\n",
    "# Llamar a la función y mostrar el DataFrame\n",
    "df_actividades = carga_datos()\n",
    "\n",
    "df_actividades"
   ]
  },
  {
   "cell_type": "code",
   "execution_count": 10,
   "metadata": {},
   "outputs": [],
   "source": [
    "df_actividades.to_csv('Datos/actividades_asturias.csv')"
   ]
  }
 ],
 "metadata": {
  "kernelspec": {
   "display_name": "Python 3",
   "language": "python",
   "name": "python3"
  },
  "language_info": {
   "codemirror_mode": {
    "name": "ipython",
    "version": 3
   },
   "file_extension": ".py",
   "mimetype": "text/x-python",
   "name": "python",
   "nbconvert_exporter": "python",
   "pygments_lexer": "ipython3",
   "version": "3.12.6"
  }
 },
 "nbformat": 4,
 "nbformat_minor": 2
}
