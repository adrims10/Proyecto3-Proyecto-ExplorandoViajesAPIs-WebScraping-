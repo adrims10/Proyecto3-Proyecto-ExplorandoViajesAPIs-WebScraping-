{
 "cells": [
  {
   "cell_type": "code",
   "execution_count": 2,
   "metadata": {},
   "outputs": [],
   "source": [
    "from bs4 import BeautifulSoup\n",
    "import requests\n",
    "import pandas as pd\n",
    "import numpy as np\n",
    "from time import sleep\n",
    "from selenium import webdriver  \n",
    "from webdriver_manager.chrome import ChromeDriverManager \n",
    "from selenium.webdriver.common.keys import Keys  \n",
    "from selenium.webdriver.support.ui import Select  \n",
    "from selenium.webdriver.support.ui import WebDriverWait\n",
    "from selenium.webdriver.support import expected_conditions as EC\n",
    "from selenium.common.exceptions import NoSuchElementException \n",
    "import re\n",
    "import sys\n",
    "import os\n",
    "from datetime import datetime\n",
    "import seaborn as sns\n",
    "import matplotlib.pyplot as plt\n"
   ]
  },
  {
   "cell_type": "code",
   "execution_count": 3,
   "metadata": {},
   "outputs": [],
   "source": [
    "df_actividades_asturias = pd.read_csv('../Datos/Actividades_Asturias.csv')\n",
    "df_actividades_malaga = pd.read_csv('../Datos/Actividades_malaga.csv')\n",
    "df_vuelos_asturias = pd.read_csv('../Datos/vuelos_Asturias.csv')\n",
    "df_vuelos_malaga = pd.read_csv('../Datos/vuelos_malaga.csv')\n",
    "df_motos_malaga = pd.read_csv('../Datos/vehiculos_malaga.csv')\n",
    "df_hoteles_asturias = pd.read_csv('../Datos/tripadvaisor_Asturias.csv')\n",
    "df_hoteles_malaga = pd.read_csv('../Datos/tripadvaisor_malaga.csv')"
   ]
  },
  {
   "cell_type": "code",
   "execution_count": 20,
   "metadata": {},
   "outputs": [
    {
     "data": {
      "text/html": [
       "<div>\n",
       "<style scoped>\n",
       "    .dataframe tbody tr th:only-of-type {\n",
       "        vertical-align: middle;\n",
       "    }\n",
       "\n",
       "    .dataframe tbody tr th {\n",
       "        vertical-align: top;\n",
       "    }\n",
       "\n",
       "    .dataframe thead th {\n",
       "        text-align: right;\n",
       "    }\n",
       "</style>\n",
       "<table border=\"1\" class=\"dataframe\">\n",
       "  <thead>\n",
       "    <tr style=\"text-align: right;\">\n",
       "      <th></th>\n",
       "      <th>Actividad</th>\n",
       "      <th>Precio</th>\n",
       "      <th>Ciudad</th>\n",
       "    </tr>\n",
       "  </thead>\n",
       "  <tbody>\n",
       "    <tr>\n",
       "      <th>0</th>\n",
       "      <td>Excursión a Covadonga, Cangas de Onís y la cos...</td>\n",
       "      <td>35.0</td>\n",
       "      <td>asturias</td>\n",
       "    </tr>\n",
       "    <tr>\n",
       "      <th>1</th>\n",
       "      <td>Excursión a Avilés, Cudillero y Luarca</td>\n",
       "      <td>35.0</td>\n",
       "      <td>asturias</td>\n",
       "    </tr>\n",
       "    <tr>\n",
       "      <th>2</th>\n",
       "      <td>Free tour por Oviedo</td>\n",
       "      <td>0.0</td>\n",
       "      <td>asturias</td>\n",
       "    </tr>\n",
       "    <tr>\n",
       "      <th>3</th>\n",
       "      <td>Free tour por Gijón</td>\n",
       "      <td>0.0</td>\n",
       "      <td>asturias</td>\n",
       "    </tr>\n",
       "    <tr>\n",
       "      <th>4</th>\n",
       "      <td>Excursión a Llanes, Ribadesella y San Vicente ...</td>\n",
       "      <td>35.0</td>\n",
       "      <td>asturias</td>\n",
       "    </tr>\n",
       "  </tbody>\n",
       "</table>\n",
       "</div>"
      ],
      "text/plain": [
       "                                           Actividad  Precio    Ciudad\n",
       "0  Excursión a Covadonga, Cangas de Onís y la cos...    35.0  asturias\n",
       "1             Excursión a Avilés, Cudillero y Luarca    35.0  asturias\n",
       "2                               Free tour por Oviedo     0.0  asturias\n",
       "3                                Free tour por Gijón     0.0  asturias\n",
       "4  Excursión a Llanes, Ribadesella y San Vicente ...    35.0  asturias"
      ]
     },
     "execution_count": 20,
     "metadata": {},
     "output_type": "execute_result"
    }
   ],
   "source": [
    "df_actividades_asturias.head(2)\n",
    "df_ac_concat= df_actividades_asturias.drop(['Unnamed: 0.1', 'Unnamed: 0','Descripción'], axis=1)\n",
    "df_ac_concat.head()"
   ]
  },
  {
   "cell_type": "code",
   "execution_count": 23,
   "metadata": {},
   "outputs": [
    {
     "data": {
      "text/html": [
       "<div>\n",
       "<style scoped>\n",
       "    .dataframe tbody tr th:only-of-type {\n",
       "        vertical-align: middle;\n",
       "    }\n",
       "\n",
       "    .dataframe tbody tr th {\n",
       "        vertical-align: top;\n",
       "    }\n",
       "\n",
       "    .dataframe thead th {\n",
       "        text-align: right;\n",
       "    }\n",
       "</style>\n",
       "<table border=\"1\" class=\"dataframe\">\n",
       "  <thead>\n",
       "    <tr style=\"text-align: right;\">\n",
       "      <th></th>\n",
       "      <th>Actividad</th>\n",
       "      <th>Precio</th>\n",
       "      <th>Ciudad</th>\n",
       "    </tr>\n",
       "  </thead>\n",
       "  <tbody>\n",
       "    <tr>\n",
       "      <th>0</th>\n",
       "      <td>Excursión al Caminito del Rey</td>\n",
       "      <td>59.0</td>\n",
       "      <td>malaga</td>\n",
       "    </tr>\n",
       "    <tr>\n",
       "      <th>1</th>\n",
       "      <td>Free tour por Málaga</td>\n",
       "      <td>0.0</td>\n",
       "      <td>malaga</td>\n",
       "    </tr>\n",
       "    <tr>\n",
       "      <th>2</th>\n",
       "      <td>Tour de Málaga al completo con entradas</td>\n",
       "      <td>36.0</td>\n",
       "      <td>malaga</td>\n",
       "    </tr>\n",
       "    <tr>\n",
       "      <th>3</th>\n",
       "      <td>Excursión a Ronda y Setenil</td>\n",
       "      <td>33.0</td>\n",
       "      <td>malaga</td>\n",
       "    </tr>\n",
       "    <tr>\n",
       "      <th>4</th>\n",
       "      <td>Visita guiada por la alcazaba y el teatro romano</td>\n",
       "      <td>15.0</td>\n",
       "      <td>malaga</td>\n",
       "    </tr>\n",
       "  </tbody>\n",
       "</table>\n",
       "</div>"
      ],
      "text/plain": [
       "                                          Actividad  Precio  Ciudad\n",
       "0                     Excursión al Caminito del Rey    59.0  malaga\n",
       "1                              Free tour por Málaga     0.0  malaga\n",
       "2           Tour de Málaga al completo con entradas    36.0  malaga\n",
       "3                       Excursión a Ronda y Setenil    33.0  malaga\n",
       "4  Visita guiada por la alcazaba y el teatro romano    15.0  malaga"
      ]
     },
     "execution_count": 23,
     "metadata": {},
     "output_type": "execute_result"
    }
   ],
   "source": [
    "df_actividades_malaga.head(2)\n",
    "df_acm_concat= df_actividades_malaga.drop(['Unnamed: 0.1', 'Unnamed: 0','Descripción','Unnamed: 0.2','Unnamed: 0.3'], axis=1)\n",
    "df_acm_concat.head()"
   ]
  },
  {
   "cell_type": "code",
   "execution_count": 25,
   "metadata": {},
   "outputs": [
    {
     "data": {
      "text/html": [
       "<div>\n",
       "<style scoped>\n",
       "    .dataframe tbody tr th:only-of-type {\n",
       "        vertical-align: middle;\n",
       "    }\n",
       "\n",
       "    .dataframe tbody tr th {\n",
       "        vertical-align: top;\n",
       "    }\n",
       "\n",
       "    .dataframe thead th {\n",
       "        text-align: right;\n",
       "    }\n",
       "</style>\n",
       "<table border=\"1\" class=\"dataframe\">\n",
       "  <thead>\n",
       "    <tr style=\"text-align: right;\">\n",
       "      <th></th>\n",
       "      <th>Unnamed: 0</th>\n",
       "      <th>ciudad_origen</th>\n",
       "      <th>ciudad_destino</th>\n",
       "      <th>duracion(min)</th>\n",
       "      <th>aerolinea</th>\n",
       "      <th>precio</th>\n",
       "      <th>fecha_salida</th>\n",
       "      <th>hora_salida</th>\n",
       "      <th>fecha_llegada</th>\n",
       "      <th>hora_llegada</th>\n",
       "    </tr>\n",
       "  </thead>\n",
       "  <tbody>\n",
       "    <tr>\n",
       "      <th>0</th>\n",
       "      <td>0</td>\n",
       "      <td>Madrid</td>\n",
       "      <td>Santiago del Monte</td>\n",
       "      <td>75</td>\n",
       "      <td>Iberia</td>\n",
       "      <td>610.93</td>\n",
       "      <td>2024-11-01</td>\n",
       "      <td>2024-10-20 16:40:00</td>\n",
       "      <td>2024-11-01</td>\n",
       "      <td>2024-10-20 17:55:00</td>\n",
       "    </tr>\n",
       "    <tr>\n",
       "      <th>1</th>\n",
       "      <td>1</td>\n",
       "      <td>Santiago del Monte</td>\n",
       "      <td>Madrid</td>\n",
       "      <td>75</td>\n",
       "      <td>Iberia</td>\n",
       "      <td>610.93</td>\n",
       "      <td>2024-11-03</td>\n",
       "      <td>2024-10-20 17:40:00</td>\n",
       "      <td>2024-11-03</td>\n",
       "      <td>2024-10-20 18:55:00</td>\n",
       "    </tr>\n",
       "  </tbody>\n",
       "</table>\n",
       "</div>"
      ],
      "text/plain": [
       "   Unnamed: 0       ciudad_origen      ciudad_destino  duracion(min)  \\\n",
       "0           0              Madrid  Santiago del Monte             75   \n",
       "1           1  Santiago del Monte              Madrid             75   \n",
       "\n",
       "  aerolinea  precio fecha_salida          hora_salida fecha_llegada  \\\n",
       "0    Iberia  610.93   2024-11-01  2024-10-20 16:40:00    2024-11-01   \n",
       "1    Iberia  610.93   2024-11-03  2024-10-20 17:40:00    2024-11-03   \n",
       "\n",
       "          hora_llegada  \n",
       "0  2024-10-20 17:55:00  \n",
       "1  2024-10-20 18:55:00  "
      ]
     },
     "execution_count": 25,
     "metadata": {},
     "output_type": "execute_result"
    }
   ],
   "source": [
    "df_vuelos_asturias.head(2)"
   ]
  },
  {
   "cell_type": "code",
   "execution_count": 42,
   "metadata": {},
   "outputs": [],
   "source": [
    "df_vuelos_asturias.head(2)\n",
    "df_vueloa_concat = df_vuelos_asturias.drop(\n",
    "    ['Unnamed: 0', 'duracion(min)', 'fecha_salida', 'hora_salida', 'ciudad_destino', 'fecha_llegada', 'hora_llegada'],\n",
    "    axis=1)\n",
    "df_vueloa_concat.head\n",
    "df_vueloa_concat['ciudad_origen'] = df_vueloa_concat['ciudad_origen'].replace('Santiago del Monte', 'Asturias')"
   ]
  },
  {
   "cell_type": "code",
   "execution_count": 43,
   "metadata": {},
   "outputs": [
    {
     "data": {
      "text/html": [
       "<div>\n",
       "<style scoped>\n",
       "    .dataframe tbody tr th:only-of-type {\n",
       "        vertical-align: middle;\n",
       "    }\n",
       "\n",
       "    .dataframe tbody tr th {\n",
       "        vertical-align: top;\n",
       "    }\n",
       "\n",
       "    .dataframe thead th {\n",
       "        text-align: right;\n",
       "    }\n",
       "</style>\n",
       "<table border=\"1\" class=\"dataframe\">\n",
       "  <thead>\n",
       "    <tr style=\"text-align: right;\">\n",
       "      <th></th>\n",
       "      <th>ciudad_origen</th>\n",
       "      <th>aerolinea</th>\n",
       "      <th>precio</th>\n",
       "    </tr>\n",
       "  </thead>\n",
       "  <tbody>\n",
       "    <tr>\n",
       "      <th>0</th>\n",
       "      <td>Madrid</td>\n",
       "      <td>Iberia</td>\n",
       "      <td>610.93</td>\n",
       "    </tr>\n",
       "    <tr>\n",
       "      <th>1</th>\n",
       "      <td>Asturias</td>\n",
       "      <td>Iberia</td>\n",
       "      <td>610.93</td>\n",
       "    </tr>\n",
       "    <tr>\n",
       "      <th>2</th>\n",
       "      <td>Madrid</td>\n",
       "      <td>Iberia</td>\n",
       "      <td>610.93</td>\n",
       "    </tr>\n",
       "    <tr>\n",
       "      <th>3</th>\n",
       "      <td>Asturias</td>\n",
       "      <td>Iberia</td>\n",
       "      <td>610.93</td>\n",
       "    </tr>\n",
       "    <tr>\n",
       "      <th>4</th>\n",
       "      <td>Madrid</td>\n",
       "      <td>Iberia</td>\n",
       "      <td>610.93</td>\n",
       "    </tr>\n",
       "  </tbody>\n",
       "</table>\n",
       "</div>"
      ],
      "text/plain": [
       "  ciudad_origen aerolinea  precio\n",
       "0        Madrid    Iberia  610.93\n",
       "1      Asturias    Iberia  610.93\n",
       "2        Madrid    Iberia  610.93\n",
       "3      Asturias    Iberia  610.93\n",
       "4        Madrid    Iberia  610.93"
      ]
     },
     "execution_count": 43,
     "metadata": {},
     "output_type": "execute_result"
    }
   ],
   "source": [
    "df_vueloa_concat.head()\n"
   ]
  },
  {
   "cell_type": "code",
   "execution_count": 45,
   "metadata": {},
   "outputs": [
    {
     "data": {
      "text/html": [
       "<div>\n",
       "<style scoped>\n",
       "    .dataframe tbody tr th:only-of-type {\n",
       "        vertical-align: middle;\n",
       "    }\n",
       "\n",
       "    .dataframe tbody tr th {\n",
       "        vertical-align: top;\n",
       "    }\n",
       "\n",
       "    .dataframe thead th {\n",
       "        text-align: right;\n",
       "    }\n",
       "</style>\n",
       "<table border=\"1\" class=\"dataframe\">\n",
       "  <thead>\n",
       "    <tr style=\"text-align: right;\">\n",
       "      <th></th>\n",
       "      <th>ciudad_origen</th>\n",
       "      <th>aerolinea</th>\n",
       "      <th>precio</th>\n",
       "    </tr>\n",
       "  </thead>\n",
       "  <tbody>\n",
       "    <tr>\n",
       "      <th>0</th>\n",
       "      <td>Madrid</td>\n",
       "      <td>Iberia</td>\n",
       "      <td>610.93</td>\n",
       "    </tr>\n",
       "    <tr>\n",
       "      <th>1</th>\n",
       "      <td>Asturias</td>\n",
       "      <td>Iberia</td>\n",
       "      <td>610.93</td>\n",
       "    </tr>\n",
       "  </tbody>\n",
       "</table>\n",
       "</div>"
      ],
      "text/plain": [
       "  ciudad_origen aerolinea  precio\n",
       "0        Madrid    Iberia  610.93\n",
       "1      Asturias    Iberia  610.93"
      ]
     },
     "execution_count": 45,
     "metadata": {},
     "output_type": "execute_result"
    }
   ],
   "source": [
    "df_vuelos_malaga.head(2)\n",
    "df_vuelom_concat = df_vuelos_asturias.drop(\n",
    "    ['Unnamed: 0', 'duracion(min)', 'fecha_salida', 'hora_salida', 'ciudad_destino', 'fecha_llegada', 'hora_llegada'],\n",
    "    axis=1)\n",
    "df_vueloa_concat.head(2)"
   ]
  },
  {
   "cell_type": "code",
   "execution_count": 53,
   "metadata": {},
   "outputs": [
    {
     "data": {
      "text/html": [
       "<div>\n",
       "<style scoped>\n",
       "    .dataframe tbody tr th:only-of-type {\n",
       "        vertical-align: middle;\n",
       "    }\n",
       "\n",
       "    .dataframe tbody tr th {\n",
       "        vertical-align: top;\n",
       "    }\n",
       "\n",
       "    .dataframe thead th {\n",
       "        text-align: right;\n",
       "    }\n",
       "</style>\n",
       "<table border=\"1\" class=\"dataframe\">\n",
       "  <thead>\n",
       "    <tr style=\"text-align: right;\">\n",
       "      <th></th>\n",
       "      <th>Modelo</th>\n",
       "      <th>Lugares</th>\n",
       "      <th>Precio</th>\n",
       "    </tr>\n",
       "  </thead>\n",
       "  <tbody>\n",
       "    <tr>\n",
       "      <th>1</th>\n",
       "      <td>Suzuki Burgman</td>\n",
       "      <td>Málaga</td>\n",
       "      <td>39.0</td>\n",
       "    </tr>\n",
       "    <tr>\n",
       "      <th>2</th>\n",
       "      <td>Honda CB 500 X</td>\n",
       "      <td>Málaga</td>\n",
       "      <td>43.0</td>\n",
       "    </tr>\n",
       "  </tbody>\n",
       "</table>\n",
       "</div>"
      ],
      "text/plain": [
       "           Modelo Lugares  Precio\n",
       "1  Suzuki Burgman  Málaga    39.0\n",
       "2  Honda CB 500 X  Málaga    43.0"
      ]
     },
     "execution_count": 53,
     "metadata": {},
     "output_type": "execute_result"
    }
   ],
   "source": [
    "df_motos_malaga.head(2)\n",
    "df_moto_concat = df_motos_malaga.drop(\n",
    "    ['Unnamed: 0','Dias por precio'],\n",
    "    axis=1)\n",
    "\n",
    "df_moto_concat\n",
    "df_moto_concat = df_moto_concat[df_moto_concat['Lugares'] != 'Granada']\n",
    "df_moto_concat = df_moto_concat[df_moto_concat['Lugares'] != 'Sevilla']\n",
    "df_moto_concat.head(2)\n"
   ]
  },
  {
   "cell_type": "code",
   "execution_count": 57,
   "metadata": {},
   "outputs": [
    {
     "data": {
      "text/html": [
       "<div>\n",
       "<style scoped>\n",
       "    .dataframe tbody tr th:only-of-type {\n",
       "        vertical-align: middle;\n",
       "    }\n",
       "\n",
       "    .dataframe tbody tr th {\n",
       "        vertical-align: top;\n",
       "    }\n",
       "\n",
       "    .dataframe thead th {\n",
       "        text-align: right;\n",
       "    }\n",
       "</style>\n",
       "<table border=\"1\" class=\"dataframe\">\n",
       "  <thead>\n",
       "    <tr style=\"text-align: right;\">\n",
       "      <th></th>\n",
       "      <th>Unnamed: 0</th>\n",
       "      <th>Nombre Hotel</th>\n",
       "      <th>Talla</th>\n",
       "      <th>Puntuacion media</th>\n",
       "      <th>Detalles extra</th>\n",
       "      <th>Precio</th>\n",
       "      <th>Proveedor</th>\n",
       "      <th>URL</th>\n",
       "      <th>Ciudad</th>\n",
       "    </tr>\n",
       "  </thead>\n",
       "  <tbody>\n",
       "    <tr>\n",
       "      <th>0</th>\n",
       "      <td>0</td>\n",
       "      <td>Hotel Exe Oviedo Centro</td>\n",
       "      <td>Nan</td>\n",
       "      <td>4.0</td>\n",
       "      <td>Nan</td>\n",
       "      <td>131.0</td>\n",
       "      <td>Booking.com</td>\n",
       "      <td>https://www.tripadvisor.in/Commerce?p=BookingC...</td>\n",
       "      <td>Asturias</td>\n",
       "    </tr>\n",
       "    <tr>\n",
       "      <th>1</th>\n",
       "      <td>1</td>\n",
       "      <td>1. Barceló Oviedo Cervantes</td>\n",
       "      <td>SMALL</td>\n",
       "      <td>4.5</td>\n",
       "      <td>Nan</td>\n",
       "      <td>168.0</td>\n",
       "      <td>Booking.com</td>\n",
       "      <td>https://www.tripadvisor.in/Commerce?p=BookingC...</td>\n",
       "      <td>Asturias</td>\n",
       "    </tr>\n",
       "  </tbody>\n",
       "</table>\n",
       "</div>"
      ],
      "text/plain": [
       "   Unnamed: 0                 Nombre Hotel  Talla  Puntuacion media  \\\n",
       "0           0      Hotel Exe Oviedo Centro    Nan               4.0   \n",
       "1           1  1. Barceló Oviedo Cervantes  SMALL               4.5   \n",
       "\n",
       "  Detalles extra  Precio    Proveedor  \\\n",
       "0            Nan   131.0  Booking.com   \n",
       "1            Nan   168.0  Booking.com   \n",
       "\n",
       "                                                 URL    Ciudad  \n",
       "0  https://www.tripadvisor.in/Commerce?p=BookingC...  Asturias  \n",
       "1  https://www.tripadvisor.in/Commerce?p=BookingC...  Asturias  "
      ]
     },
     "execution_count": 57,
     "metadata": {},
     "output_type": "execute_result"
    }
   ],
   "source": [
    "df_hoteles_asturias.head(2)\n"
   ]
  },
  {
   "cell_type": "code",
   "execution_count": 61,
   "metadata": {},
   "outputs": [
    {
     "data": {
      "text/html": [
       "<div>\n",
       "<style scoped>\n",
       "    .dataframe tbody tr th:only-of-type {\n",
       "        vertical-align: middle;\n",
       "    }\n",
       "\n",
       "    .dataframe tbody tr th {\n",
       "        vertical-align: top;\n",
       "    }\n",
       "\n",
       "    .dataframe thead th {\n",
       "        text-align: right;\n",
       "    }\n",
       "</style>\n",
       "<table border=\"1\" class=\"dataframe\">\n",
       "  <thead>\n",
       "    <tr style=\"text-align: right;\">\n",
       "      <th></th>\n",
       "      <th>Nombre Hotel</th>\n",
       "      <th>Precio</th>\n",
       "      <th>Ciudad</th>\n",
       "    </tr>\n",
       "  </thead>\n",
       "  <tbody>\n",
       "    <tr>\n",
       "      <th>0</th>\n",
       "      <td>Hotel Exe Oviedo Centro</td>\n",
       "      <td>131.0</td>\n",
       "      <td>Asturias</td>\n",
       "    </tr>\n",
       "    <tr>\n",
       "      <th>1</th>\n",
       "      <td>1. Barceló Oviedo Cervantes</td>\n",
       "      <td>168.0</td>\n",
       "      <td>Asturias</td>\n",
       "    </tr>\n",
       "  </tbody>\n",
       "</table>\n",
       "</div>"
      ],
      "text/plain": [
       "                  Nombre Hotel  Precio    Ciudad\n",
       "0      Hotel Exe Oviedo Centro   131.0  Asturias\n",
       "1  1. Barceló Oviedo Cervantes   168.0  Asturias"
      ]
     },
     "execution_count": 61,
     "metadata": {},
     "output_type": "execute_result"
    }
   ],
   "source": [
    "dfhotelesa_concat = df_hoteles_asturias.drop(\n",
    "    ['Unnamed: 0', 'Talla', 'Puntuacion media', 'Detalles extra', 'Proveedor', 'URL'],\n",
    "    axis=1)\n",
    "dfhotelesa_concat.head(2)\n"
   ]
  },
  {
   "cell_type": "code",
   "execution_count": 62,
   "metadata": {},
   "outputs": [
    {
     "data": {
      "text/html": [
       "<div>\n",
       "<style scoped>\n",
       "    .dataframe tbody tr th:only-of-type {\n",
       "        vertical-align: middle;\n",
       "    }\n",
       "\n",
       "    .dataframe tbody tr th {\n",
       "        vertical-align: top;\n",
       "    }\n",
       "\n",
       "    .dataframe thead th {\n",
       "        text-align: right;\n",
       "    }\n",
       "</style>\n",
       "<table border=\"1\" class=\"dataframe\">\n",
       "  <thead>\n",
       "    <tr style=\"text-align: right;\">\n",
       "      <th></th>\n",
       "      <th>Nombre Hotel</th>\n",
       "      <th>Precio</th>\n",
       "      <th>Ciudad</th>\n",
       "    </tr>\n",
       "  </thead>\n",
       "  <tbody>\n",
       "    <tr>\n",
       "      <th>0</th>\n",
       "      <td>Saenz Suites Gallery By Bossh Apartments</td>\n",
       "      <td>158.0</td>\n",
       "      <td>Malaga</td>\n",
       "    </tr>\n",
       "    <tr>\n",
       "      <th>1</th>\n",
       "      <td>1. Vincci Larios Diez</td>\n",
       "      <td>338.0</td>\n",
       "      <td>Malaga</td>\n",
       "    </tr>\n",
       "  </tbody>\n",
       "</table>\n",
       "</div>"
      ],
      "text/plain": [
       "                               Nombre Hotel  Precio  Ciudad\n",
       "0  Saenz Suites Gallery By Bossh Apartments   158.0  Malaga\n",
       "1                     1. Vincci Larios Diez   338.0  Malaga"
      ]
     },
     "execution_count": 62,
     "metadata": {},
     "output_type": "execute_result"
    }
   ],
   "source": [
    "df_hoteles_malaga.head(2)\n",
    "dfhotelesm_concat = df_hoteles_malaga.drop(\n",
    "    ['Unnamed: 0', 'Talla', 'Puntuacion media', 'Detalles extra', 'Proveedor', 'URL'],\n",
    "    axis=1)\n",
    "dfhotelesm_concat.head(2)"
   ]
  },
  {
   "cell_type": "code",
   "execution_count": 64,
   "metadata": {},
   "outputs": [
    {
     "name": "stderr",
     "output_type": "stream",
     "text": [
      "C:\\Users\\HP\\AppData\\Local\\Temp\\ipykernel_2100\\2037768015.py:12: FutureWarning: Setting an item of incompatible dtype is deprecated and will raise an error in a future version of pandas. Value 'Nan' has dtype incompatible with float64, please explicitly cast to a compatible dtype first.\n",
      "  df_total.fillna('Nan', inplace=True)\n"
     ]
    }
   ],
   "source": [
    "df_total = pd.concat([\n",
    "    df_ac_concat,\n",
    "    df_acm_concat,\n",
    "    df_vueloa_concat,\n",
    "    df_vuelom_concat,\n",
    "    df_moto_concat,\n",
    "    dfhotelesa_concat,\n",
    "    dfhotelesm_concat\n",
    "], ignore_index=True, sort=False)\n",
    "\n",
    "\n",
    "df_total.fillna('Nan', inplace=True)"
   ]
  },
  {
   "cell_type": "code",
   "execution_count": 78,
   "metadata": {},
   "outputs": [
    {
     "data": {
      "text/html": [
       "<div>\n",
       "<style scoped>\n",
       "    .dataframe tbody tr th:only-of-type {\n",
       "        vertical-align: middle;\n",
       "    }\n",
       "\n",
       "    .dataframe tbody tr th {\n",
       "        vertical-align: top;\n",
       "    }\n",
       "\n",
       "    .dataframe thead th {\n",
       "        text-align: right;\n",
       "    }\n",
       "</style>\n",
       "<table border=\"1\" class=\"dataframe\">\n",
       "  <thead>\n",
       "    <tr style=\"text-align: right;\">\n",
       "      <th></th>\n",
       "      <th>Actividad</th>\n",
       "      <th>Precio</th>\n",
       "      <th>Ciudad</th>\n",
       "      <th>ciudad_origen</th>\n",
       "      <th>aerolinea</th>\n",
       "      <th>precio</th>\n",
       "      <th>Modelo</th>\n",
       "      <th>Lugares</th>\n",
       "      <th>Nombre Hotel</th>\n",
       "    </tr>\n",
       "  </thead>\n",
       "  <tbody>\n",
       "    <tr>\n",
       "      <th>0</th>\n",
       "      <td>Excursión a Covadonga, Cangas de Onís y la cos...</td>\n",
       "      <td>35.0</td>\n",
       "      <td>asturias</td>\n",
       "      <td>Nan</td>\n",
       "      <td>Nan</td>\n",
       "      <td>Nan</td>\n",
       "      <td>Nan</td>\n",
       "      <td>Nan</td>\n",
       "      <td>Nan</td>\n",
       "    </tr>\n",
       "    <tr>\n",
       "      <th>1</th>\n",
       "      <td>Excursión a Avilés, Cudillero y Luarca</td>\n",
       "      <td>35.0</td>\n",
       "      <td>asturias</td>\n",
       "      <td>Nan</td>\n",
       "      <td>Nan</td>\n",
       "      <td>Nan</td>\n",
       "      <td>Nan</td>\n",
       "      <td>Nan</td>\n",
       "      <td>Nan</td>\n",
       "    </tr>\n",
       "    <tr>\n",
       "      <th>2</th>\n",
       "      <td>Free tour por Oviedo</td>\n",
       "      <td>0.0</td>\n",
       "      <td>asturias</td>\n",
       "      <td>Nan</td>\n",
       "      <td>Nan</td>\n",
       "      <td>Nan</td>\n",
       "      <td>Nan</td>\n",
       "      <td>Nan</td>\n",
       "      <td>Nan</td>\n",
       "    </tr>\n",
       "    <tr>\n",
       "      <th>3</th>\n",
       "      <td>Free tour por Gijón</td>\n",
       "      <td>0.0</td>\n",
       "      <td>asturias</td>\n",
       "      <td>Nan</td>\n",
       "      <td>Nan</td>\n",
       "      <td>Nan</td>\n",
       "      <td>Nan</td>\n",
       "      <td>Nan</td>\n",
       "      <td>Nan</td>\n",
       "    </tr>\n",
       "    <tr>\n",
       "      <th>4</th>\n",
       "      <td>Excursión a Llanes, Ribadesella y San Vicente ...</td>\n",
       "      <td>35.0</td>\n",
       "      <td>asturias</td>\n",
       "      <td>Nan</td>\n",
       "      <td>Nan</td>\n",
       "      <td>Nan</td>\n",
       "      <td>Nan</td>\n",
       "      <td>Nan</td>\n",
       "      <td>Nan</td>\n",
       "    </tr>\n",
       "  </tbody>\n",
       "</table>\n",
       "</div>"
      ],
      "text/plain": [
       "                                           Actividad Precio    Ciudad  \\\n",
       "0  Excursión a Covadonga, Cangas de Onís y la cos...   35.0  asturias   \n",
       "1             Excursión a Avilés, Cudillero y Luarca   35.0  asturias   \n",
       "2                               Free tour por Oviedo    0.0  asturias   \n",
       "3                                Free tour por Gijón    0.0  asturias   \n",
       "4  Excursión a Llanes, Ribadesella y San Vicente ...   35.0  asturias   \n",
       "\n",
       "  ciudad_origen aerolinea precio Modelo Lugares Nombre Hotel  \n",
       "0           Nan       Nan    Nan    Nan     Nan          Nan  \n",
       "1           Nan       Nan    Nan    Nan     Nan          Nan  \n",
       "2           Nan       Nan    Nan    Nan     Nan          Nan  \n",
       "3           Nan       Nan    Nan    Nan     Nan          Nan  \n",
       "4           Nan       Nan    Nan    Nan     Nan          Nan  "
      ]
     },
     "execution_count": 78,
     "metadata": {},
     "output_type": "execute_result"
    }
   ],
   "source": [
    "df_total.head()"
   ]
  },
  {
   "cell_type": "code",
   "execution_count": 89,
   "metadata": {},
   "outputs": [
    {
     "name": "stdout",
     "output_type": "stream",
     "text": [
      "El viaje total completo a asturias con actividades hoteles y vuelos minimos es de : 679 euros\n",
      "El viaje total completo a asturias con actividades hoteles y vuelos maximos es de : 1026 euros\n",
      "El viaje total completo a malaga con actividades hoteles y vuelos minimos es de 693 euros\n",
      "El viaje total completo a malaga con actividades hoteles y vuelos maximos es de 1402 euros\n"
     ]
    }
   ],
   "source": [
    "min_ac_asturias = df_ac_concat['Precio'].min()\n",
    "max_ac_asturias = df_ac_concat['Precio'].max()\n",
    "\n",
    "min_vuelom_asturias = df_vueloa_concat['precio'].min()\n",
    "max_vuelom_asturias = df_vueloa_concat['precio'].max()\n",
    "\n",
    "min_hoteles_asturias = dfhotelesa_concat['Precio'].min()\n",
    "max_hoteles_asturias = dfhotelesa_concat['Precio'].max()\n",
    "\n",
    "# Sumar mínimos y máximos para Asturias\n",
    "suma_minimos_asturias = min_ac_asturias + min_vuelom_asturias + min_hoteles_asturias\n",
    "suma_maximos_asturias = max_ac_asturias + max_vuelom_asturias + max_hoteles_asturias\n",
    "\n",
    "# Calcular mínimos y máximos para Málaga\n",
    "min_ac_malaga = df_acm_concat['Precio'].min()\n",
    "max_ac_malaga = df_acm_concat['Precio'].max()\n",
    "\n",
    "min_vuelom_malaga = df_vuelom_concat['precio'].min()\n",
    "max_vuelom_malaga = df_vuelom_concat['precio'].max()\n",
    "\n",
    "min_moto_malaga = df_moto_concat['Precio'].min()\n",
    "max_moto_malaga = df_moto_concat['Precio'].max()\n",
    "\n",
    "min_hoteles_malaga = dfhotelesm_concat['Precio'].min()\n",
    "max_hoteles_malaga = dfhotelesm_concat['Precio'].max()\n",
    "\n",
    "# Sumar mínimos y máximos para Málaga\n",
    "suma_minimos_malaga = min_ac_malaga + min_vuelom_malaga + min_moto_malaga + min_hoteles_malaga\n",
    "suma_maximos_malaga = max_ac_malaga + max_vuelom_malaga + max_moto_malaga + max_hoteles_malaga\n",
    "\n",
    "# Mostrar resultados\n",
    "print(f\"El viaje total completo a asturias con actividades hoteles y vuelos minimos es de : {round(suma_minimos_asturias)} euros\")\n",
    "print(f\"El viaje total completo a asturias con actividades hoteles y vuelos maximos es de : {round(suma_maximos_asturias)} euros\")\n",
    "print(f\"El viaje total completo a malaga con actividades hoteles y vuelos minimos es de {round(suma_minimos_malaga)} euros\")\n",
    "print(f\"El viaje total completo a malaga con actividades hoteles y vuelos maximos es de {round(suma_maximos_malaga)} euros\")"
   ]
  },
  {
   "cell_type": "code",
   "execution_count": 108,
   "metadata": {},
   "outputs": [
    {
     "data": {
      "image/png": "[encoded data removed]",
      "text/plain": [
       "<Figure size 1000x500 with 2 Axes>"
      ]
     },
     "metadata": {},
     "output_type": "display_data"
    }
   ],
   "source": [
    "import matplotlib.pyplot as plt\n",
    "\n",
    "\n",
    "labels = ['Asturias', 'Málaga']\n",
    "suma_minimos = [suma_minimos_malaga, suma_minimos_asturias]  # Invertir solo los mínimos\n",
    "suma_maximos = [suma_maximos_asturias, suma_maximos_malaga]\n",
    "\n",
    "\n",
    "fig, axs = plt.subplots(1, 2, figsize=(10, 5))\n",
    "\n",
    "axs[0].bar(labels, suma_minimos, color=['blue', 'orange'], alpha=0.7)\n",
    "axs[0].set_title('Sumas de Precios Mínimos')\n",
    "axs[0].set_ylabel('Precio (euros)')\n",
    "axs[0].set_ylim(0, max(suma_minimos) + 100)\n",
    "\n",
    "\n",
    "axs[1].bar(labels, suma_maximos, color=['blue', 'orange'], alpha=0.7)\n",
    "axs[1].set_title('Sumas de Precios Máximos')\n",
    "axs[1].set_ylabel('Precio (euros)')\n",
    "axs[1].set_ylim(0, max(suma_maximos) + 100)\n",
    "\n",
    "\n",
    "plt.tight_layout()\n",
    "plt.show()"
   ]
  },
  {
   "cell_type": "markdown",
   "metadata": {},
   "source": [
    "Observamos que si los clientes quieren un viaje con los precios minimos no hay a penas diferencia entre los lugares, pero si los clientes quiere una experiencia un poco mas de alto disfrute la diferencia es notable."
   ]
  },
  {
   "cell_type": "code",
   "execution_count": 92,
   "metadata": {},
   "outputs": [
    {
     "name": "stdout",
     "output_type": "stream",
     "text": [
      "El viaje total completo a malaga con actividades hoteles y vuelos minimos es de 666 euros, en este caso quitamos la opcion de alquiler de motos\n",
      "El viaje total completo a malaga con actividades hoteles y vuelos maximos es de 1263 en este caso quitamos la opcion de alquiler de motos\n"
     ]
    }
   ],
   "source": [
    "#sin motos en malaga\n",
    "\n",
    "suma_maximos_malaga_sin_moto = max_ac_malaga + max_vuelom_malaga + max_hoteles_malaga\n",
    "suma_minimos_malaga_sin_moto = min_ac_malaga + min_vuelom_malaga  + min_hoteles_malaga\n",
    "print(f\"El viaje total completo a malaga con actividades hoteles y vuelos minimos es de {round(suma_minimos_malaga)} euros, en este caso quitamos la opcion de alquiler de motos\")\n",
    "print(f\"El viaje total completo a malaga con actividades hoteles y vuelos maximos es de {round(suma_maximos_malaga)} en este caso quitamos la opcion de alquiler de motos\")"
   ]
  },
  {
   "cell_type": "code",
   "execution_count": 110,
   "metadata": {},
   "outputs": [
    {
     "data": {
      "image/png": "[encoded data removed]",
      "text/plain": [
       "<Figure size 1000x500 with 2 Axes>"
      ]
     },
     "metadata": {},
     "output_type": "display_data"
    }
   ],
   "source": [
    "labels = ['Asturias', 'Málaga']\n",
    "suma_minimos = [suma_minimos_malaga_sin_moto, suma_minimos_asturias]  # Invertir solo los mínimos\n",
    "suma_maximos = [suma_maximos_asturias, suma_maximos_malaga_sin_moto]\n",
    "\n",
    "\n",
    "fig, axs = plt.subplots(1, 2, figsize=(10, 5))\n",
    "\n",
    "\n",
    "axs[0].bar(labels, suma_minimos, color=['blue', 'orange'], alpha=0.7)\n",
    "axs[0].set_title('Sumas de Precios Mínimos')\n",
    "axs[0].set_ylabel('Precio (euros)')\n",
    "axs[0].set_ylim(0, max(suma_minimos) + 100)\n",
    "\n",
    "axs[1].bar(labels, suma_maximos, color=['blue', 'orange'], alpha=0.7)\n",
    "axs[1].set_title('Sumas de Precios Máximos')\n",
    "axs[1].set_ylabel('Precio (euros)')\n",
    "axs[1].set_ylim(0, max(suma_maximos) + 100)\n",
    "\n",
    "plt.tight_layout()\n",
    "plt.show()"
   ]
  },
  {
   "cell_type": "markdown",
   "metadata": {},
   "source": [
    "Observamos que incluso si quitamos la experiencia de malaga en moto no cambia la experiencia para el cliente en comparacion con las dos ciudades\n"
   ]
  },
  {
   "cell_type": "code",
   "execution_count": 93,
   "metadata": {},
   "outputs": [
    {
     "name": "stdout",
     "output_type": "stream",
     "text": [
      "El viaje total completo a Asturias con actividades, hoteles y vuelos (precio medio) es de: 770 euros\n",
      "El viaje total completo a Asturias con actividades, hoteles y vuelos (moda) es de: 742 euros\n",
      "El viaje total completo a Málaga con actividades, hoteles y vuelos y moto (precio medio) es de: 931 euros\n",
      "El viaje total completo a Málaga con actividades, hoteles y vuelos y moto (moda) es de: 950 euros\n"
     ]
    }
   ],
   "source": [
    "media_ac_asturias = df_ac_concat['Precio'].mean()\n",
    "moda_ac_asturias = df_ac_concat['Precio'].mode()[0]  # Obtiene la primera moda\n",
    "\n",
    "media_vuelom_asturias = df_vueloa_concat['precio'].mean()\n",
    "moda_vuelom_asturias = df_vueloa_concat['precio'].mode()[0]  # Obtiene la primera moda\n",
    "\n",
    "media_hoteles_asturias = dfhotelesa_concat['Precio'].mean()\n",
    "moda_hoteles_asturias = dfhotelesa_concat['Precio'].mode()[0]  # Obtiene la primera moda\n",
    "\n",
    "# Sumar precios medios y la moda para Asturias\n",
    "suma_media_asturias = media_ac_asturias + media_vuelom_asturias + media_hoteles_asturias\n",
    "suma_moda_asturias = moda_ac_asturias + moda_vuelom_asturias + moda_hoteles_asturias\n",
    "\n",
    "# Calcular precios medios y la moda para Málaga\n",
    "media_ac_malaga = df_acm_concat['Precio'].mean()\n",
    "moda_ac_malaga = df_acm_concat['Precio'].mode()[0]  # Obtiene la primera moda\n",
    "\n",
    "media_vuelom_malaga = df_vuelom_concat['precio'].mean()\n",
    "moda_vuelom_malaga = df_vuelom_concat['precio'].mode()[0]  # Obtiene la primera moda\n",
    "\n",
    "media_moto_malaga = df_moto_concat['Precio'].mean()\n",
    "moda_moto_malaga = df_moto_concat['Precio'].mode()[0]  # Obtiene la primera moda\n",
    "\n",
    "media_hoteles_malaga = dfhotelesm_concat['Precio'].mean()\n",
    "moda_hoteles_malaga = dfhotelesm_concat['Precio'].mode()[0]  # Obtiene la primera moda\n",
    "\n",
    "# Sumar precios medios y la moda para Málaga\n",
    "suma_media_malaga = media_ac_malaga + media_vuelom_malaga + media_moto_malaga + media_hoteles_malaga\n",
    "suma_moda_malaga = moda_ac_malaga + moda_vuelom_malaga + moda_moto_malaga + moda_hoteles_malaga\n",
    "\n",
    "print(f\"El viaje total completo a Asturias con actividades, hoteles y vuelos (precio medio) es de: {round(suma_media_asturias)} euros\")\n",
    "print(f\"El viaje total completo a Asturias con actividades, hoteles y vuelos (moda) es de: {round(suma_moda_asturias)} euros\")\n",
    "print(f\"El viaje total completo a Málaga con actividades, hoteles y vuelos y moto (precio medio) es de: {round(suma_media_malaga)} euros\")\n",
    "print(f\"El viaje total completo a Málaga con actividades, hoteles y vuelos y moto (moda) es de: {round(suma_moda_malaga)} euros\")"
   ]
  },
  {
   "cell_type": "code",
   "execution_count": 100,
   "metadata": {},
   "outputs": [
    {
     "data": {
      "image/png": "[encoded data removed]",
      "text/plain": [
       "<Figure size 1000x500 with 2 Axes>"
      ]
     },
     "metadata": {},
     "output_type": "display_data"
    }
   ],
   "source": [
    "labels = ['Asturias', 'Málaga']\n",
    "sumas_media = [suma_media_asturias, suma_media_malaga]\n",
    "sumas_moda = [suma_moda_asturias, suma_moda_malaga]\n",
    "fig, axs = plt.subplots(1, 2, figsize=(10, 5))\n",
    "\n",
    "axs[0].bar(labels, sumas_media, color=['blue', 'orange'], alpha=0.7)\n",
    "axs[0].set_title('Sumas de Precios Medios')\n",
    "axs[0].set_ylabel('Precio (euros)')\n",
    "axs[0].set_ylim(0, max(sumas_media) + 100)\n",
    "\n",
    "axs[1].bar(labels, sumas_moda, color=['blue', 'orange'], alpha=0.7)\n",
    "axs[1].set_title('Sumas de Moda')\n",
    "axs[1].set_ylabel('Precio (euros)')\n",
    "axs[1].set_ylim(0, max(sumas_moda) + 100)\n",
    "\n",
    "plt.tight_layout()\n",
    "plt.show()\n"
   ]
  },
  {
   "cell_type": "markdown",
   "metadata": {},
   "source": [
    "Si el cliente quiere una experiencia media vemos que malaga es mas caro respecto  asturias.\n",
    "Al igual que si el cliente quiere algo mas comun tambien seria mas caro malaga.\n",
    "\n",
    "Viendo las medias y las modas vemos que las media son representativas aunque la recopilacion de datos es pequeña en este caso"
   ]
  },
  {
   "cell_type": "code",
   "execution_count": 111,
   "metadata": {},
   "outputs": [
    {
     "name": "stdout",
     "output_type": "stream",
     "text": [
      "El viaje total completo a Málaga con actividades, hoteles y vuelos sin moto (precio medio) es de: 861 euros\n",
      "El viaje total completo a Málaga con actividades, hoteles y vuelos sin moto (moda) es de: 825 euros\n"
     ]
    }
   ],
   "source": [
    "#Sin motos\n",
    "suma_media_malaga_sin = media_ac_malaga + media_vuelom_malaga  + media_hoteles_malaga\n",
    "suma_moda_malaga_sin= moda_ac_malaga + moda_vuelom_malaga  + moda_hoteles_malaga\n",
    "print(f\"El viaje total completo a Málaga con actividades, hoteles y vuelos sin moto (precio medio) es de: {round(suma_media_malaga)} euros\")\n",
    "print(f\"El viaje total completo a Málaga con actividades, hoteles y vuelos sin moto (moda) es de: {round(suma_moda_malaga)} euros\")"
   ]
  },
  {
   "cell_type": "code",
   "execution_count": 112,
   "metadata": {},
   "outputs": [
    {
     "data": {
      "image/png": "[encoded data removed]",
      "text/plain": [
       "<Figure size 1000x500 with 2 Axes>"
      ]
     },
     "metadata": {},
     "output_type": "display_data"
    }
   ],
   "source": [
    "labels = ['Asturias', 'Málaga']\n",
    "sumas_media = [suma_media_asturias, suma_media_malaga_sin]\n",
    "sumas_moda = [suma_moda_asturias, suma_moda_malaga_sin]\n",
    "fig, axs = plt.subplots(1, 2, figsize=(10, 5))\n",
    "\n",
    "axs[0].bar(labels, sumas_media, color=['blue', 'orange'], alpha=0.7)\n",
    "axs[0].set_title('Sumas de Precios Medios')\n",
    "axs[0].set_ylabel('Precio (euros)')\n",
    "axs[0].set_ylim(0, max(sumas_media) + 100)\n",
    "\n",
    "axs[1].bar(labels, sumas_moda, color=['blue', 'orange'], alpha=0.7)\n",
    "axs[1].set_title('Sumas de Moda')\n",
    "axs[1].set_ylabel('Precio (euros)')\n",
    "axs[1].set_ylim(0, max(sumas_moda) + 100)\n",
    "\n",
    "plt.tight_layout()\n",
    "plt.show()\n"
   ]
  },
  {
   "cell_type": "markdown",
   "metadata": {},
   "source": [
    "Vemos que añadir la moto al paquete no es significativo puesto que sigue teniendo un numero parecido entre las dos ciudades."
   ]
  },
  {
   "cell_type": "code",
   "execution_count": null,
   "metadata": {},
   "outputs": [],
   "source": []
  }
 ],
 "metadata": {
  "kernelspec": {
   "display_name": "Webscraping",
   "language": "python",
   "name": "python3"
  },
  "language_info": {
   "codemirror_mode": {
    "name": "ipython",
    "version": 3
   },
   "file_extension": ".py",
   "mimetype": "text/x-python",
   "name": "python",
   "nbconvert_exporter": "python",
   "pygments_lexer": "ipython3",
   "version": "3.13.0"
  }
 },
 "nbformat": 4,
 "nbformat_minor": 2
}
